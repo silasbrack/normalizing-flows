{
  "nbformat": 4,
  "nbformat_minor": 0,
  "metadata": {
    "colab": {
      "name": "RunNFExperiments.ipynb",
      "provenance": [],
      "collapsed_sections": []
    },
    "kernelspec": {
      "name": "python3",
      "display_name": "Python 3"
    },
    "language_info": {
      "name": "python"
    }
  },
  "cells": [
    {
      "cell_type": "code",
      "metadata": {
        "id": "-uDdLGByNY-s"
      },
      "source": [
        "!git clone https://github.com/silasbrack/normalizing-flows.git\n",
        "%cd normalizing-flows/\n",
        "!pip install -e .\n",
        "!pip install -r requirements.txt"
      ],
      "execution_count": 18,
      "outputs": []
    },
    {
      "cell_type": "code",
      "metadata": {
        "id": "PDKhGPD_Uzt_"
      },
      "source": [
        "%run src/experiments/run_energy_function.py"
      ],
      "execution_count": 19,
      "outputs": []
    },
    {
      "cell_type": "code",
      "metadata": {
        "id": "_NdlvccaqgyD"
      },
      "source": [
        ""
      ],
      "execution_count": null,
      "outputs": []
    }
  ]
}