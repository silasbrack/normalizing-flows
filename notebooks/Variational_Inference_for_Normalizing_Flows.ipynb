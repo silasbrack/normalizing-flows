{
  "nbformat": 4,
  "nbformat_minor": 0,
  "metadata": {
    "colab": {
      "name": "Variational Inference for Normalizing Flows.ipynb",
      "provenance": [],
      "collapsed_sections": [
        "ZaZGjkela0Qr",
        "CE969cjLeAfS",
        "wBTlqqFR4Fi9",
        "hYxxPmraFoL4",
        "pO2GR7NU2ntK",
        "XysgFF6zujvx",
        "m-cXc1WaubQU",
        "ilid9XAOZwGA",
        "Tzlw3HyV3oQf",
        "F60Jm3UzwLsP"
      ]
    },
    "kernelspec": {
      "name": "python3",
      "display_name": "Python 3"
    },
    "language_info": {
      "name": "python"
    },
    "widgets": {
      "application/vnd.jupyter.widget-state+json": {
        "6b8422fb7fc543d3af19f736e00f2334": {
          "model_module": "@jupyter-widgets/controls",
          "model_name": "HBoxModel",
          "model_module_version": "1.5.0",
          "state": {
            "_view_name": "HBoxView",
            "_dom_classes": [],
            "_model_name": "HBoxModel",
            "_view_module": "@jupyter-widgets/controls",
            "_model_module_version": "1.5.0",
            "_view_count": null,
            "_view_module_version": "1.5.0",
            "box_style": "",
            "layout": "IPY_MODEL_17055cd672a4476eb53c36e1ebddbe83",
            "_model_module": "@jupyter-widgets/controls",
            "children": [
              "IPY_MODEL_d2f3d76dd70b4d70bcb59c2525b60481",
              "IPY_MODEL_e1d4db6be2604698a35fcc569b45a1d1",
              "IPY_MODEL_e3666cbbb666461c906a2bb47efb0ee2"
            ]
          }
        },
        "17055cd672a4476eb53c36e1ebddbe83": {
          "model_module": "@jupyter-widgets/base",
          "model_name": "LayoutModel",
          "model_module_version": "1.2.0",
          "state": {
            "_view_name": "LayoutView",
            "grid_template_rows": null,
            "right": null,
            "justify_content": null,
            "_view_module": "@jupyter-widgets/base",
            "overflow": null,
            "_model_module_version": "1.2.0",
            "_view_count": null,
            "flex_flow": null,
            "width": null,
            "min_width": null,
            "border": null,
            "align_items": null,
            "bottom": null,
            "_model_module": "@jupyter-widgets/base",
            "top": null,
            "grid_column": null,
            "overflow_y": null,
            "overflow_x": null,
            "grid_auto_flow": null,
            "grid_area": null,
            "grid_template_columns": null,
            "flex": null,
            "_model_name": "LayoutModel",
            "justify_items": null,
            "grid_row": null,
            "max_height": null,
            "align_content": null,
            "visibility": null,
            "align_self": null,
            "height": null,
            "min_height": null,
            "padding": null,
            "grid_auto_rows": null,
            "grid_gap": null,
            "max_width": null,
            "order": null,
            "_view_module_version": "1.2.0",
            "grid_template_areas": null,
            "object_position": null,
            "object_fit": null,
            "grid_auto_columns": null,
            "margin": null,
            "display": null,
            "left": null
          }
        },
        "d2f3d76dd70b4d70bcb59c2525b60481": {
          "model_module": "@jupyter-widgets/controls",
          "model_name": "HTMLModel",
          "model_module_version": "1.5.0",
          "state": {
            "_view_name": "HTMLView",
            "style": "IPY_MODEL_5a53c27bd6404996b78d11d7f7706b1e",
            "_dom_classes": [],
            "description": "",
            "_model_name": "HTMLModel",
            "placeholder": "​",
            "_view_module": "@jupyter-widgets/controls",
            "_model_module_version": "1.5.0",
            "value": "100%",
            "_view_count": null,
            "_view_module_version": "1.5.0",
            "description_tooltip": null,
            "_model_module": "@jupyter-widgets/controls",
            "layout": "IPY_MODEL_e38a73bb29844482ab901fada01db4ba"
          }
        },
        "e1d4db6be2604698a35fcc569b45a1d1": {
          "model_module": "@jupyter-widgets/controls",
          "model_name": "FloatProgressModel",
          "model_module_version": "1.5.0",
          "state": {
            "_view_name": "ProgressView",
            "style": "IPY_MODEL_3d5801df7e63435db725226c6158c1f9",
            "_dom_classes": [],
            "description": "",
            "_model_name": "FloatProgressModel",
            "bar_style": "success",
            "max": 5000,
            "_view_module": "@jupyter-widgets/controls",
            "_model_module_version": "1.5.0",
            "value": 5000,
            "_view_count": null,
            "_view_module_version": "1.5.0",
            "orientation": "horizontal",
            "min": 0,
            "description_tooltip": null,
            "_model_module": "@jupyter-widgets/controls",
            "layout": "IPY_MODEL_fb6a47b587e4434fbcea74d71ad285db"
          }
        },
        "e3666cbbb666461c906a2bb47efb0ee2": {
          "model_module": "@jupyter-widgets/controls",
          "model_name": "HTMLModel",
          "model_module_version": "1.5.0",
          "state": {
            "_view_name": "HTMLView",
            "style": "IPY_MODEL_6262792039a04648a149fb1db193cf36",
            "_dom_classes": [],
            "description": "",
            "_model_name": "HTMLModel",
            "placeholder": "​",
            "_view_module": "@jupyter-widgets/controls",
            "_model_module_version": "1.5.0",
            "value": " 5000/5000 [00:42&lt;00:00, 118.51it/s]",
            "_view_count": null,
            "_view_module_version": "1.5.0",
            "description_tooltip": null,
            "_model_module": "@jupyter-widgets/controls",
            "layout": "IPY_MODEL_54ac4382ae5445eab903f265e0d51df8"
          }
        },
        "5a53c27bd6404996b78d11d7f7706b1e": {
          "model_module": "@jupyter-widgets/controls",
          "model_name": "DescriptionStyleModel",
          "model_module_version": "1.5.0",
          "state": {
            "_view_name": "StyleView",
            "_model_name": "DescriptionStyleModel",
            "description_width": "",
            "_view_module": "@jupyter-widgets/base",
            "_model_module_version": "1.5.0",
            "_view_count": null,
            "_view_module_version": "1.2.0",
            "_model_module": "@jupyter-widgets/controls"
          }
        },
        "e38a73bb29844482ab901fada01db4ba": {
          "model_module": "@jupyter-widgets/base",
          "model_name": "LayoutModel",
          "model_module_version": "1.2.0",
          "state": {
            "_view_name": "LayoutView",
            "grid_template_rows": null,
            "right": null,
            "justify_content": null,
            "_view_module": "@jupyter-widgets/base",
            "overflow": null,
            "_model_module_version": "1.2.0",
            "_view_count": null,
            "flex_flow": null,
            "width": null,
            "min_width": null,
            "border": null,
            "align_items": null,
            "bottom": null,
            "_model_module": "@jupyter-widgets/base",
            "top": null,
            "grid_column": null,
            "overflow_y": null,
            "overflow_x": null,
            "grid_auto_flow": null,
            "grid_area": null,
            "grid_template_columns": null,
            "flex": null,
            "_model_name": "LayoutModel",
            "justify_items": null,
            "grid_row": null,
            "max_height": null,
            "align_content": null,
            "visibility": null,
            "align_self": null,
            "height": null,
            "min_height": null,
            "padding": null,
            "grid_auto_rows": null,
            "grid_gap": null,
            "max_width": null,
            "order": null,
            "_view_module_version": "1.2.0",
            "grid_template_areas": null,
            "object_position": null,
            "object_fit": null,
            "grid_auto_columns": null,
            "margin": null,
            "display": null,
            "left": null
          }
        },
        "3d5801df7e63435db725226c6158c1f9": {
          "model_module": "@jupyter-widgets/controls",
          "model_name": "ProgressStyleModel",
          "model_module_version": "1.5.0",
          "state": {
            "_view_name": "StyleView",
            "_model_name": "ProgressStyleModel",
            "description_width": "",
            "_view_module": "@jupyter-widgets/base",
            "_model_module_version": "1.5.0",
            "_view_count": null,
            "_view_module_version": "1.2.0",
            "bar_color": null,
            "_model_module": "@jupyter-widgets/controls"
          }
        },
        "fb6a47b587e4434fbcea74d71ad285db": {
          "model_module": "@jupyter-widgets/base",
          "model_name": "LayoutModel",
          "model_module_version": "1.2.0",
          "state": {
            "_view_name": "LayoutView",
            "grid_template_rows": null,
            "right": null,
            "justify_content": null,
            "_view_module": "@jupyter-widgets/base",
            "overflow": null,
            "_model_module_version": "1.2.0",
            "_view_count": null,
            "flex_flow": null,
            "width": null,
            "min_width": null,
            "border": null,
            "align_items": null,
            "bottom": null,
            "_model_module": "@jupyter-widgets/base",
            "top": null,
            "grid_column": null,
            "overflow_y": null,
            "overflow_x": null,
            "grid_auto_flow": null,
            "grid_area": null,
            "grid_template_columns": null,
            "flex": null,
            "_model_name": "LayoutModel",
            "justify_items": null,
            "grid_row": null,
            "max_height": null,
            "align_content": null,
            "visibility": null,
            "align_self": null,
            "height": null,
            "min_height": null,
            "padding": null,
            "grid_auto_rows": null,
            "grid_gap": null,
            "max_width": null,
            "order": null,
            "_view_module_version": "1.2.0",
            "grid_template_areas": null,
            "object_position": null,
            "object_fit": null,
            "grid_auto_columns": null,
            "margin": null,
            "display": null,
            "left": null
          }
        },
        "6262792039a04648a149fb1db193cf36": {
          "model_module": "@jupyter-widgets/controls",
          "model_name": "DescriptionStyleModel",
          "model_module_version": "1.5.0",
          "state": {
            "_view_name": "StyleView",
            "_model_name": "DescriptionStyleModel",
            "description_width": "",
            "_view_module": "@jupyter-widgets/base",
            "_model_module_version": "1.5.0",
            "_view_count": null,
            "_view_module_version": "1.2.0",
            "_model_module": "@jupyter-widgets/controls"
          }
        },
        "54ac4382ae5445eab903f265e0d51df8": {
          "model_module": "@jupyter-widgets/base",
          "model_name": "LayoutModel",
          "model_module_version": "1.2.0",
          "state": {
            "_view_name": "LayoutView",
            "grid_template_rows": null,
            "right": null,
            "justify_content": null,
            "_view_module": "@jupyter-widgets/base",
            "overflow": null,
            "_model_module_version": "1.2.0",
            "_view_count": null,
            "flex_flow": null,
            "width": null,
            "min_width": null,
            "border": null,
            "align_items": null,
            "bottom": null,
            "_model_module": "@jupyter-widgets/base",
            "top": null,
            "grid_column": null,
            "overflow_y": null,
            "overflow_x": null,
            "grid_auto_flow": null,
            "grid_area": null,
            "grid_template_columns": null,
            "flex": null,
            "_model_name": "LayoutModel",
            "justify_items": null,
            "grid_row": null,
            "max_height": null,
            "align_content": null,
            "visibility": null,
            "align_self": null,
            "height": null,
            "min_height": null,
            "padding": null,
            "grid_auto_rows": null,
            "grid_gap": null,
            "max_width": null,
            "order": null,
            "_view_module_version": "1.2.0",
            "grid_template_areas": null,
            "object_position": null,
            "object_fit": null,
            "grid_auto_columns": null,
            "margin": null,
            "display": null,
            "left": null
          }
        },
        "bc5a367f89d24d859a660f7e90fce930": {
          "model_module": "@jupyter-widgets/controls",
          "model_name": "HBoxModel",
          "model_module_version": "1.5.0",
          "state": {
            "_view_name": "HBoxView",
            "_dom_classes": [],
            "_model_name": "HBoxModel",
            "_view_module": "@jupyter-widgets/controls",
            "_model_module_version": "1.5.0",
            "_view_count": null,
            "_view_module_version": "1.5.0",
            "box_style": "",
            "layout": "IPY_MODEL_c8a55f968ab24d5f9dcaed792409a462",
            "_model_module": "@jupyter-widgets/controls",
            "children": [
              "IPY_MODEL_20fca17397664054908241a66e7e4e92",
              "IPY_MODEL_e5aae6c23c5f44f8ba86a42581b6b28c",
              "IPY_MODEL_1f088eef87524323b7734decbbde9924"
            ]
          }
        },
        "c8a55f968ab24d5f9dcaed792409a462": {
          "model_module": "@jupyter-widgets/base",
          "model_name": "LayoutModel",
          "model_module_version": "1.2.0",
          "state": {
            "_view_name": "LayoutView",
            "grid_template_rows": null,
            "right": null,
            "justify_content": null,
            "_view_module": "@jupyter-widgets/base",
            "overflow": null,
            "_model_module_version": "1.2.0",
            "_view_count": null,
            "flex_flow": null,
            "width": null,
            "min_width": null,
            "border": null,
            "align_items": null,
            "bottom": null,
            "_model_module": "@jupyter-widgets/base",
            "top": null,
            "grid_column": null,
            "overflow_y": null,
            "overflow_x": null,
            "grid_auto_flow": null,
            "grid_area": null,
            "grid_template_columns": null,
            "flex": null,
            "_model_name": "LayoutModel",
            "justify_items": null,
            "grid_row": null,
            "max_height": null,
            "align_content": null,
            "visibility": null,
            "align_self": null,
            "height": null,
            "min_height": null,
            "padding": null,
            "grid_auto_rows": null,
            "grid_gap": null,
            "max_width": null,
            "order": null,
            "_view_module_version": "1.2.0",
            "grid_template_areas": null,
            "object_position": null,
            "object_fit": null,
            "grid_auto_columns": null,
            "margin": null,
            "display": null,
            "left": null
          }
        },
        "20fca17397664054908241a66e7e4e92": {
          "model_module": "@jupyter-widgets/controls",
          "model_name": "HTMLModel",
          "model_module_version": "1.5.0",
          "state": {
            "_view_name": "HTMLView",
            "style": "IPY_MODEL_0e92b511330a4360af11802fe9801fb9",
            "_dom_classes": [],
            "description": "",
            "_model_name": "HTMLModel",
            "placeholder": "​",
            "_view_module": "@jupyter-widgets/controls",
            "_model_module_version": "1.5.0",
            "value": "100%",
            "_view_count": null,
            "_view_module_version": "1.5.0",
            "description_tooltip": null,
            "_model_module": "@jupyter-widgets/controls",
            "layout": "IPY_MODEL_c1a54a6a03954318952856e7cbac261f"
          }
        },
        "e5aae6c23c5f44f8ba86a42581b6b28c": {
          "model_module": "@jupyter-widgets/controls",
          "model_name": "FloatProgressModel",
          "model_module_version": "1.5.0",
          "state": {
            "_view_name": "ProgressView",
            "style": "IPY_MODEL_19616210d23e4603bc75352d8d7baf48",
            "_dom_classes": [],
            "description": "",
            "_model_name": "FloatProgressModel",
            "bar_style": "success",
            "max": 5000,
            "_view_module": "@jupyter-widgets/controls",
            "_model_module_version": "1.5.0",
            "value": 5000,
            "_view_count": null,
            "_view_module_version": "1.5.0",
            "orientation": "horizontal",
            "min": 0,
            "description_tooltip": null,
            "_model_module": "@jupyter-widgets/controls",
            "layout": "IPY_MODEL_bf336078dda74bfc808a43da2cecc6ef"
          }
        },
        "1f088eef87524323b7734decbbde9924": {
          "model_module": "@jupyter-widgets/controls",
          "model_name": "HTMLModel",
          "model_module_version": "1.5.0",
          "state": {
            "_view_name": "HTMLView",
            "style": "IPY_MODEL_647d83ebff6043379e7bc8e33709d296",
            "_dom_classes": [],
            "description": "",
            "_model_name": "HTMLModel",
            "placeholder": "​",
            "_view_module": "@jupyter-widgets/controls",
            "_model_module_version": "1.5.0",
            "value": " 5000/5000 [00:42&lt;00:00, 99.54it/s]",
            "_view_count": null,
            "_view_module_version": "1.5.0",
            "description_tooltip": null,
            "_model_module": "@jupyter-widgets/controls",
            "layout": "IPY_MODEL_a0fe73c40f2a4662aec880d2116615c7"
          }
        },
        "0e92b511330a4360af11802fe9801fb9": {
          "model_module": "@jupyter-widgets/controls",
          "model_name": "DescriptionStyleModel",
          "model_module_version": "1.5.0",
          "state": {
            "_view_name": "StyleView",
            "_model_name": "DescriptionStyleModel",
            "description_width": "",
            "_view_module": "@jupyter-widgets/base",
            "_model_module_version": "1.5.0",
            "_view_count": null,
            "_view_module_version": "1.2.0",
            "_model_module": "@jupyter-widgets/controls"
          }
        },
        "c1a54a6a03954318952856e7cbac261f": {
          "model_module": "@jupyter-widgets/base",
          "model_name": "LayoutModel",
          "model_module_version": "1.2.0",
          "state": {
            "_view_name": "LayoutView",
            "grid_template_rows": null,
            "right": null,
            "justify_content": null,
            "_view_module": "@jupyter-widgets/base",
            "overflow": null,
            "_model_module_version": "1.2.0",
            "_view_count": null,
            "flex_flow": null,
            "width": null,
            "min_width": null,
            "border": null,
            "align_items": null,
            "bottom": null,
            "_model_module": "@jupyter-widgets/base",
            "top": null,
            "grid_column": null,
            "overflow_y": null,
            "overflow_x": null,
            "grid_auto_flow": null,
            "grid_area": null,
            "grid_template_columns": null,
            "flex": null,
            "_model_name": "LayoutModel",
            "justify_items": null,
            "grid_row": null,
            "max_height": null,
            "align_content": null,
            "visibility": null,
            "align_self": null,
            "height": null,
            "min_height": null,
            "padding": null,
            "grid_auto_rows": null,
            "grid_gap": null,
            "max_width": null,
            "order": null,
            "_view_module_version": "1.2.0",
            "grid_template_areas": null,
            "object_position": null,
            "object_fit": null,
            "grid_auto_columns": null,
            "margin": null,
            "display": null,
            "left": null
          }
        },
        "19616210d23e4603bc75352d8d7baf48": {
          "model_module": "@jupyter-widgets/controls",
          "model_name": "ProgressStyleModel",
          "model_module_version": "1.5.0",
          "state": {
            "_view_name": "StyleView",
            "_model_name": "ProgressStyleModel",
            "description_width": "",
            "_view_module": "@jupyter-widgets/base",
            "_model_module_version": "1.5.0",
            "_view_count": null,
            "_view_module_version": "1.2.0",
            "bar_color": null,
            "_model_module": "@jupyter-widgets/controls"
          }
        },
        "bf336078dda74bfc808a43da2cecc6ef": {
          "model_module": "@jupyter-widgets/base",
          "model_name": "LayoutModel",
          "model_module_version": "1.2.0",
          "state": {
            "_view_name": "LayoutView",
            "grid_template_rows": null,
            "right": null,
            "justify_content": null,
            "_view_module": "@jupyter-widgets/base",
            "overflow": null,
            "_model_module_version": "1.2.0",
            "_view_count": null,
            "flex_flow": null,
            "width": null,
            "min_width": null,
            "border": null,
            "align_items": null,
            "bottom": null,
            "_model_module": "@jupyter-widgets/base",
            "top": null,
            "grid_column": null,
            "overflow_y": null,
            "overflow_x": null,
            "grid_auto_flow": null,
            "grid_area": null,
            "grid_template_columns": null,
            "flex": null,
            "_model_name": "LayoutModel",
            "justify_items": null,
            "grid_row": null,
            "max_height": null,
            "align_content": null,
            "visibility": null,
            "align_self": null,
            "height": null,
            "min_height": null,
            "padding": null,
            "grid_auto_rows": null,
            "grid_gap": null,
            "max_width": null,
            "order": null,
            "_view_module_version": "1.2.0",
            "grid_template_areas": null,
            "object_position": null,
            "object_fit": null,
            "grid_auto_columns": null,
            "margin": null,
            "display": null,
            "left": null
          }
        },
        "647d83ebff6043379e7bc8e33709d296": {
          "model_module": "@jupyter-widgets/controls",
          "model_name": "DescriptionStyleModel",
          "model_module_version": "1.5.0",
          "state": {
            "_view_name": "StyleView",
            "_model_name": "DescriptionStyleModel",
            "description_width": "",
            "_view_module": "@jupyter-widgets/base",
            "_model_module_version": "1.5.0",
            "_view_count": null,
            "_view_module_version": "1.2.0",
            "_model_module": "@jupyter-widgets/controls"
          }
        },
        "a0fe73c40f2a4662aec880d2116615c7": {
          "model_module": "@jupyter-widgets/base",
          "model_name": "LayoutModel",
          "model_module_version": "1.2.0",
          "state": {
            "_view_name": "LayoutView",
            "grid_template_rows": null,
            "right": null,
            "justify_content": null,
            "_view_module": "@jupyter-widgets/base",
            "overflow": null,
            "_model_module_version": "1.2.0",
            "_view_count": null,
            "flex_flow": null,
            "width": null,
            "min_width": null,
            "border": null,
            "align_items": null,
            "bottom": null,
            "_model_module": "@jupyter-widgets/base",
            "top": null,
            "grid_column": null,
            "overflow_y": null,
            "overflow_x": null,
            "grid_auto_flow": null,
            "grid_area": null,
            "grid_template_columns": null,
            "flex": null,
            "_model_name": "LayoutModel",
            "justify_items": null,
            "grid_row": null,
            "max_height": null,
            "align_content": null,
            "visibility": null,
            "align_self": null,
            "height": null,
            "min_height": null,
            "padding": null,
            "grid_auto_rows": null,
            "grid_gap": null,
            "max_width": null,
            "order": null,
            "_view_module_version": "1.2.0",
            "grid_template_areas": null,
            "object_position": null,
            "object_fit": null,
            "grid_auto_columns": null,
            "margin": null,
            "display": null,
            "left": null
          }
        },
        "031a7fbc84b9472184219324c05aedf5": {
          "model_module": "@jupyter-widgets/controls",
          "model_name": "HBoxModel",
          "model_module_version": "1.5.0",
          "state": {
            "_view_name": "HBoxView",
            "_dom_classes": [],
            "_model_name": "HBoxModel",
            "_view_module": "@jupyter-widgets/controls",
            "_model_module_version": "1.5.0",
            "_view_count": null,
            "_view_module_version": "1.5.0",
            "box_style": "",
            "layout": "IPY_MODEL_03e8ab67e4854a16b6c46b5e2b8628b0",
            "_model_module": "@jupyter-widgets/controls",
            "children": [
              "IPY_MODEL_ab0999d0d6be4da0910642dfce6d6ea2",
              "IPY_MODEL_e096740994864473a5b27225933f20db",
              "IPY_MODEL_b7d3861ff92d4bc49c40ebfb5f8c6eef"
            ]
          }
        },
        "03e8ab67e4854a16b6c46b5e2b8628b0": {
          "model_module": "@jupyter-widgets/base",
          "model_name": "LayoutModel",
          "model_module_version": "1.2.0",
          "state": {
            "_view_name": "LayoutView",
            "grid_template_rows": null,
            "right": null,
            "justify_content": null,
            "_view_module": "@jupyter-widgets/base",
            "overflow": null,
            "_model_module_version": "1.2.0",
            "_view_count": null,
            "flex_flow": null,
            "width": null,
            "min_width": null,
            "border": null,
            "align_items": null,
            "bottom": null,
            "_model_module": "@jupyter-widgets/base",
            "top": null,
            "grid_column": null,
            "overflow_y": null,
            "overflow_x": null,
            "grid_auto_flow": null,
            "grid_area": null,
            "grid_template_columns": null,
            "flex": null,
            "_model_name": "LayoutModel",
            "justify_items": null,
            "grid_row": null,
            "max_height": null,
            "align_content": null,
            "visibility": null,
            "align_self": null,
            "height": null,
            "min_height": null,
            "padding": null,
            "grid_auto_rows": null,
            "grid_gap": null,
            "max_width": null,
            "order": null,
            "_view_module_version": "1.2.0",
            "grid_template_areas": null,
            "object_position": null,
            "object_fit": null,
            "grid_auto_columns": null,
            "margin": null,
            "display": null,
            "left": null
          }
        },
        "ab0999d0d6be4da0910642dfce6d6ea2": {
          "model_module": "@jupyter-widgets/controls",
          "model_name": "HTMLModel",
          "model_module_version": "1.5.0",
          "state": {
            "_view_name": "HTMLView",
            "style": "IPY_MODEL_9408091c36c34eeda1db480e8f0d7bcd",
            "_dom_classes": [],
            "description": "",
            "_model_name": "HTMLModel",
            "placeholder": "​",
            "_view_module": "@jupyter-widgets/controls",
            "_model_module_version": "1.5.0",
            "value": "100%",
            "_view_count": null,
            "_view_module_version": "1.5.0",
            "description_tooltip": null,
            "_model_module": "@jupyter-widgets/controls",
            "layout": "IPY_MODEL_c7b74f36b10c48a380d5811f12377c9f"
          }
        },
        "e096740994864473a5b27225933f20db": {
          "model_module": "@jupyter-widgets/controls",
          "model_name": "FloatProgressModel",
          "model_module_version": "1.5.0",
          "state": {
            "_view_name": "ProgressView",
            "style": "IPY_MODEL_59fed1b431514bbf9fe78d8dd07d6b90",
            "_dom_classes": [],
            "description": "",
            "_model_name": "FloatProgressModel",
            "bar_style": "success",
            "max": 5000,
            "_view_module": "@jupyter-widgets/controls",
            "_model_module_version": "1.5.0",
            "value": 5000,
            "_view_count": null,
            "_view_module_version": "1.5.0",
            "orientation": "horizontal",
            "min": 0,
            "description_tooltip": null,
            "_model_module": "@jupyter-widgets/controls",
            "layout": "IPY_MODEL_2dc5014f245c4491b6aabcfc5b987592"
          }
        },
        "b7d3861ff92d4bc49c40ebfb5f8c6eef": {
          "model_module": "@jupyter-widgets/controls",
          "model_name": "HTMLModel",
          "model_module_version": "1.5.0",
          "state": {
            "_view_name": "HTMLView",
            "style": "IPY_MODEL_a43e66e25bf444dc810a6ac1e426a8b2",
            "_dom_classes": [],
            "description": "",
            "_model_name": "HTMLModel",
            "placeholder": "​",
            "_view_module": "@jupyter-widgets/controls",
            "_model_module_version": "1.5.0",
            "value": " 5000/5000 [02:30&lt;00:00, 34.76it/s]",
            "_view_count": null,
            "_view_module_version": "1.5.0",
            "description_tooltip": null,
            "_model_module": "@jupyter-widgets/controls",
            "layout": "IPY_MODEL_056f52c195ee4981ba567b70ecf02d47"
          }
        },
        "9408091c36c34eeda1db480e8f0d7bcd": {
          "model_module": "@jupyter-widgets/controls",
          "model_name": "DescriptionStyleModel",
          "model_module_version": "1.5.0",
          "state": {
            "_view_name": "StyleView",
            "_model_name": "DescriptionStyleModel",
            "description_width": "",
            "_view_module": "@jupyter-widgets/base",
            "_model_module_version": "1.5.0",
            "_view_count": null,
            "_view_module_version": "1.2.0",
            "_model_module": "@jupyter-widgets/controls"
          }
        },
        "c7b74f36b10c48a380d5811f12377c9f": {
          "model_module": "@jupyter-widgets/base",
          "model_name": "LayoutModel",
          "model_module_version": "1.2.0",
          "state": {
            "_view_name": "LayoutView",
            "grid_template_rows": null,
            "right": null,
            "justify_content": null,
            "_view_module": "@jupyter-widgets/base",
            "overflow": null,
            "_model_module_version": "1.2.0",
            "_view_count": null,
            "flex_flow": null,
            "width": null,
            "min_width": null,
            "border": null,
            "align_items": null,
            "bottom": null,
            "_model_module": "@jupyter-widgets/base",
            "top": null,
            "grid_column": null,
            "overflow_y": null,
            "overflow_x": null,
            "grid_auto_flow": null,
            "grid_area": null,
            "grid_template_columns": null,
            "flex": null,
            "_model_name": "LayoutModel",
            "justify_items": null,
            "grid_row": null,
            "max_height": null,
            "align_content": null,
            "visibility": null,
            "align_self": null,
            "height": null,
            "min_height": null,
            "padding": null,
            "grid_auto_rows": null,
            "grid_gap": null,
            "max_width": null,
            "order": null,
            "_view_module_version": "1.2.0",
            "grid_template_areas": null,
            "object_position": null,
            "object_fit": null,
            "grid_auto_columns": null,
            "margin": null,
            "display": null,
            "left": null
          }
        },
        "59fed1b431514bbf9fe78d8dd07d6b90": {
          "model_module": "@jupyter-widgets/controls",
          "model_name": "ProgressStyleModel",
          "model_module_version": "1.5.0",
          "state": {
            "_view_name": "StyleView",
            "_model_name": "ProgressStyleModel",
            "description_width": "",
            "_view_module": "@jupyter-widgets/base",
            "_model_module_version": "1.5.0",
            "_view_count": null,
            "_view_module_version": "1.2.0",
            "bar_color": null,
            "_model_module": "@jupyter-widgets/controls"
          }
        },
        "2dc5014f245c4491b6aabcfc5b987592": {
          "model_module": "@jupyter-widgets/base",
          "model_name": "LayoutModel",
          "model_module_version": "1.2.0",
          "state": {
            "_view_name": "LayoutView",
            "grid_template_rows": null,
            "right": null,
            "justify_content": null,
            "_view_module": "@jupyter-widgets/base",
            "overflow": null,
            "_model_module_version": "1.2.0",
            "_view_count": null,
            "flex_flow": null,
            "width": null,
            "min_width": null,
            "border": null,
            "align_items": null,
            "bottom": null,
            "_model_module": "@jupyter-widgets/base",
            "top": null,
            "grid_column": null,
            "overflow_y": null,
            "overflow_x": null,
            "grid_auto_flow": null,
            "grid_area": null,
            "grid_template_columns": null,
            "flex": null,
            "_model_name": "LayoutModel",
            "justify_items": null,
            "grid_row": null,
            "max_height": null,
            "align_content": null,
            "visibility": null,
            "align_self": null,
            "height": null,
            "min_height": null,
            "padding": null,
            "grid_auto_rows": null,
            "grid_gap": null,
            "max_width": null,
            "order": null,
            "_view_module_version": "1.2.0",
            "grid_template_areas": null,
            "object_position": null,
            "object_fit": null,
            "grid_auto_columns": null,
            "margin": null,
            "display": null,
            "left": null
          }
        },
        "a43e66e25bf444dc810a6ac1e426a8b2": {
          "model_module": "@jupyter-widgets/controls",
          "model_name": "DescriptionStyleModel",
          "model_module_version": "1.5.0",
          "state": {
            "_view_name": "StyleView",
            "_model_name": "DescriptionStyleModel",
            "description_width": "",
            "_view_module": "@jupyter-widgets/base",
            "_model_module_version": "1.5.0",
            "_view_count": null,
            "_view_module_version": "1.2.0",
            "_model_module": "@jupyter-widgets/controls"
          }
        },
        "056f52c195ee4981ba567b70ecf02d47": {
          "model_module": "@jupyter-widgets/base",
          "model_name": "LayoutModel",
          "model_module_version": "1.2.0",
          "state": {
            "_view_name": "LayoutView",
            "grid_template_rows": null,
            "right": null,
            "justify_content": null,
            "_view_module": "@jupyter-widgets/base",
            "overflow": null,
            "_model_module_version": "1.2.0",
            "_view_count": null,
            "flex_flow": null,
            "width": null,
            "min_width": null,
            "border": null,
            "align_items": null,
            "bottom": null,
            "_model_module": "@jupyter-widgets/base",
            "top": null,
            "grid_column": null,
            "overflow_y": null,
            "overflow_x": null,
            "grid_auto_flow": null,
            "grid_area": null,
            "grid_template_columns": null,
            "flex": null,
            "_model_name": "LayoutModel",
            "justify_items": null,
            "grid_row": null,
            "max_height": null,
            "align_content": null,
            "visibility": null,
            "align_self": null,
            "height": null,
            "min_height": null,
            "padding": null,
            "grid_auto_rows": null,
            "grid_gap": null,
            "max_width": null,
            "order": null,
            "_view_module_version": "1.2.0",
            "grid_template_areas": null,
            "object_position": null,
            "object_fit": null,
            "grid_auto_columns": null,
            "margin": null,
            "display": null,
            "left": null
          }
        },
        "008ed0fbbdd146d2902b2bf7320b2976": {
          "model_module": "@jupyter-widgets/controls",
          "model_name": "HBoxModel",
          "model_module_version": "1.5.0",
          "state": {
            "_view_name": "HBoxView",
            "_dom_classes": [],
            "_model_name": "HBoxModel",
            "_view_module": "@jupyter-widgets/controls",
            "_model_module_version": "1.5.0",
            "_view_count": null,
            "_view_module_version": "1.5.0",
            "box_style": "",
            "layout": "IPY_MODEL_7e87d3e4621d4b4fba4423c783de1ede",
            "_model_module": "@jupyter-widgets/controls",
            "children": [
              "IPY_MODEL_33931de27603442786f557340f44b240",
              "IPY_MODEL_3c2bc5beb4254af6960bed19ee79c554",
              "IPY_MODEL_8b16f3dc7b2d43d2bf60150cbf8ad6c3"
            ]
          }
        },
        "7e87d3e4621d4b4fba4423c783de1ede": {
          "model_module": "@jupyter-widgets/base",
          "model_name": "LayoutModel",
          "model_module_version": "1.2.0",
          "state": {
            "_view_name": "LayoutView",
            "grid_template_rows": null,
            "right": null,
            "justify_content": null,
            "_view_module": "@jupyter-widgets/base",
            "overflow": null,
            "_model_module_version": "1.2.0",
            "_view_count": null,
            "flex_flow": null,
            "width": null,
            "min_width": null,
            "border": null,
            "align_items": null,
            "bottom": null,
            "_model_module": "@jupyter-widgets/base",
            "top": null,
            "grid_column": null,
            "overflow_y": null,
            "overflow_x": null,
            "grid_auto_flow": null,
            "grid_area": null,
            "grid_template_columns": null,
            "flex": null,
            "_model_name": "LayoutModel",
            "justify_items": null,
            "grid_row": null,
            "max_height": null,
            "align_content": null,
            "visibility": null,
            "align_self": null,
            "height": null,
            "min_height": null,
            "padding": null,
            "grid_auto_rows": null,
            "grid_gap": null,
            "max_width": null,
            "order": null,
            "_view_module_version": "1.2.0",
            "grid_template_areas": null,
            "object_position": null,
            "object_fit": null,
            "grid_auto_columns": null,
            "margin": null,
            "display": null,
            "left": null
          }
        },
        "33931de27603442786f557340f44b240": {
          "model_module": "@jupyter-widgets/controls",
          "model_name": "HTMLModel",
          "model_module_version": "1.5.0",
          "state": {
            "_view_name": "HTMLView",
            "style": "IPY_MODEL_2c053588e33f419dbed48111da47bdb2",
            "_dom_classes": [],
            "description": "",
            "_model_name": "HTMLModel",
            "placeholder": "​",
            "_view_module": "@jupyter-widgets/controls",
            "_model_module_version": "1.5.0",
            "value": "100%",
            "_view_count": null,
            "_view_module_version": "1.5.0",
            "description_tooltip": null,
            "_model_module": "@jupyter-widgets/controls",
            "layout": "IPY_MODEL_b23a714995444154960d9d39c205fd7f"
          }
        },
        "3c2bc5beb4254af6960bed19ee79c554": {
          "model_module": "@jupyter-widgets/controls",
          "model_name": "FloatProgressModel",
          "model_module_version": "1.5.0",
          "state": {
            "_view_name": "ProgressView",
            "style": "IPY_MODEL_bd4cd10c69f24f6dba8f477a5e451c2b",
            "_dom_classes": [],
            "description": "",
            "_model_name": "FloatProgressModel",
            "bar_style": "success",
            "max": 5000,
            "_view_module": "@jupyter-widgets/controls",
            "_model_module_version": "1.5.0",
            "value": 5000,
            "_view_count": null,
            "_view_module_version": "1.5.0",
            "orientation": "horizontal",
            "min": 0,
            "description_tooltip": null,
            "_model_module": "@jupyter-widgets/controls",
            "layout": "IPY_MODEL_5953b199b56f4b7da0493f0d86266195"
          }
        },
        "8b16f3dc7b2d43d2bf60150cbf8ad6c3": {
          "model_module": "@jupyter-widgets/controls",
          "model_name": "HTMLModel",
          "model_module_version": "1.5.0",
          "state": {
            "_view_name": "HTMLView",
            "style": "IPY_MODEL_a655defd19d5402d9f02d78f6ff5dde7",
            "_dom_classes": [],
            "description": "",
            "_model_name": "HTMLModel",
            "placeholder": "​",
            "_view_module": "@jupyter-widgets/controls",
            "_model_module_version": "1.5.0",
            "value": " 5000/5000 [04:47&lt;00:00, 18.09it/s]",
            "_view_count": null,
            "_view_module_version": "1.5.0",
            "description_tooltip": null,
            "_model_module": "@jupyter-widgets/controls",
            "layout": "IPY_MODEL_84bf5d2984c44af1bd8c0941d3e05bc2"
          }
        },
        "2c053588e33f419dbed48111da47bdb2": {
          "model_module": "@jupyter-widgets/controls",
          "model_name": "DescriptionStyleModel",
          "model_module_version": "1.5.0",
          "state": {
            "_view_name": "StyleView",
            "_model_name": "DescriptionStyleModel",
            "description_width": "",
            "_view_module": "@jupyter-widgets/base",
            "_model_module_version": "1.5.0",
            "_view_count": null,
            "_view_module_version": "1.2.0",
            "_model_module": "@jupyter-widgets/controls"
          }
        },
        "b23a714995444154960d9d39c205fd7f": {
          "model_module": "@jupyter-widgets/base",
          "model_name": "LayoutModel",
          "model_module_version": "1.2.0",
          "state": {
            "_view_name": "LayoutView",
            "grid_template_rows": null,
            "right": null,
            "justify_content": null,
            "_view_module": "@jupyter-widgets/base",
            "overflow": null,
            "_model_module_version": "1.2.0",
            "_view_count": null,
            "flex_flow": null,
            "width": null,
            "min_width": null,
            "border": null,
            "align_items": null,
            "bottom": null,
            "_model_module": "@jupyter-widgets/base",
            "top": null,
            "grid_column": null,
            "overflow_y": null,
            "overflow_x": null,
            "grid_auto_flow": null,
            "grid_area": null,
            "grid_template_columns": null,
            "flex": null,
            "_model_name": "LayoutModel",
            "justify_items": null,
            "grid_row": null,
            "max_height": null,
            "align_content": null,
            "visibility": null,
            "align_self": null,
            "height": null,
            "min_height": null,
            "padding": null,
            "grid_auto_rows": null,
            "grid_gap": null,
            "max_width": null,
            "order": null,
            "_view_module_version": "1.2.0",
            "grid_template_areas": null,
            "object_position": null,
            "object_fit": null,
            "grid_auto_columns": null,
            "margin": null,
            "display": null,
            "left": null
          }
        },
        "bd4cd10c69f24f6dba8f477a5e451c2b": {
          "model_module": "@jupyter-widgets/controls",
          "model_name": "ProgressStyleModel",
          "model_module_version": "1.5.0",
          "state": {
            "_view_name": "StyleView",
            "_model_name": "ProgressStyleModel",
            "description_width": "",
            "_view_module": "@jupyter-widgets/base",
            "_model_module_version": "1.5.0",
            "_view_count": null,
            "_view_module_version": "1.2.0",
            "bar_color": null,
            "_model_module": "@jupyter-widgets/controls"
          }
        },
        "5953b199b56f4b7da0493f0d86266195": {
          "model_module": "@jupyter-widgets/base",
          "model_name": "LayoutModel",
          "model_module_version": "1.2.0",
          "state": {
            "_view_name": "LayoutView",
            "grid_template_rows": null,
            "right": null,
            "justify_content": null,
            "_view_module": "@jupyter-widgets/base",
            "overflow": null,
            "_model_module_version": "1.2.0",
            "_view_count": null,
            "flex_flow": null,
            "width": null,
            "min_width": null,
            "border": null,
            "align_items": null,
            "bottom": null,
            "_model_module": "@jupyter-widgets/base",
            "top": null,
            "grid_column": null,
            "overflow_y": null,
            "overflow_x": null,
            "grid_auto_flow": null,
            "grid_area": null,
            "grid_template_columns": null,
            "flex": null,
            "_model_name": "LayoutModel",
            "justify_items": null,
            "grid_row": null,
            "max_height": null,
            "align_content": null,
            "visibility": null,
            "align_self": null,
            "height": null,
            "min_height": null,
            "padding": null,
            "grid_auto_rows": null,
            "grid_gap": null,
            "max_width": null,
            "order": null,
            "_view_module_version": "1.2.0",
            "grid_template_areas": null,
            "object_position": null,
            "object_fit": null,
            "grid_auto_columns": null,
            "margin": null,
            "display": null,
            "left": null
          }
        },
        "a655defd19d5402d9f02d78f6ff5dde7": {
          "model_module": "@jupyter-widgets/controls",
          "model_name": "DescriptionStyleModel",
          "model_module_version": "1.5.0",
          "state": {
            "_view_name": "StyleView",
            "_model_name": "DescriptionStyleModel",
            "description_width": "",
            "_view_module": "@jupyter-widgets/base",
            "_model_module_version": "1.5.0",
            "_view_count": null,
            "_view_module_version": "1.2.0",
            "_model_module": "@jupyter-widgets/controls"
          }
        },
        "84bf5d2984c44af1bd8c0941d3e05bc2": {
          "model_module": "@jupyter-widgets/base",
          "model_name": "LayoutModel",
          "model_module_version": "1.2.0",
          "state": {
            "_view_name": "LayoutView",
            "grid_template_rows": null,
            "right": null,
            "justify_content": null,
            "_view_module": "@jupyter-widgets/base",
            "overflow": null,
            "_model_module_version": "1.2.0",
            "_view_count": null,
            "flex_flow": null,
            "width": null,
            "min_width": null,
            "border": null,
            "align_items": null,
            "bottom": null,
            "_model_module": "@jupyter-widgets/base",
            "top": null,
            "grid_column": null,
            "overflow_y": null,
            "overflow_x": null,
            "grid_auto_flow": null,
            "grid_area": null,
            "grid_template_columns": null,
            "flex": null,
            "_model_name": "LayoutModel",
            "justify_items": null,
            "grid_row": null,
            "max_height": null,
            "align_content": null,
            "visibility": null,
            "align_self": null,
            "height": null,
            "min_height": null,
            "padding": null,
            "grid_auto_rows": null,
            "grid_gap": null,
            "max_width": null,
            "order": null,
            "_view_module_version": "1.2.0",
            "grid_template_areas": null,
            "object_position": null,
            "object_fit": null,
            "grid_auto_columns": null,
            "margin": null,
            "display": null,
            "left": null
          }
        },
        "f7a7dfba6aa64a279e7d2bf6ad736d39": {
          "model_module": "@jupyter-widgets/controls",
          "model_name": "HBoxModel",
          "model_module_version": "1.5.0",
          "state": {
            "_view_name": "HBoxView",
            "_dom_classes": [],
            "_model_name": "HBoxModel",
            "_view_module": "@jupyter-widgets/controls",
            "_model_module_version": "1.5.0",
            "_view_count": null,
            "_view_module_version": "1.5.0",
            "box_style": "",
            "layout": "IPY_MODEL_059f59af695b46ac8d36926300b956de",
            "_model_module": "@jupyter-widgets/controls",
            "children": [
              "IPY_MODEL_2464ae08068249f6827c08030837e143",
              "IPY_MODEL_6f56a3dcaf6947a88076fd31106f3608",
              "IPY_MODEL_1cbfd0a1e35646ab89cb19ee43c46c78"
            ]
          }
        },
        "059f59af695b46ac8d36926300b956de": {
          "model_module": "@jupyter-widgets/base",
          "model_name": "LayoutModel",
          "model_module_version": "1.2.0",
          "state": {
            "_view_name": "LayoutView",
            "grid_template_rows": null,
            "right": null,
            "justify_content": null,
            "_view_module": "@jupyter-widgets/base",
            "overflow": null,
            "_model_module_version": "1.2.0",
            "_view_count": null,
            "flex_flow": null,
            "width": null,
            "min_width": null,
            "border": null,
            "align_items": null,
            "bottom": null,
            "_model_module": "@jupyter-widgets/base",
            "top": null,
            "grid_column": null,
            "overflow_y": null,
            "overflow_x": null,
            "grid_auto_flow": null,
            "grid_area": null,
            "grid_template_columns": null,
            "flex": null,
            "_model_name": "LayoutModel",
            "justify_items": null,
            "grid_row": null,
            "max_height": null,
            "align_content": null,
            "visibility": null,
            "align_self": null,
            "height": null,
            "min_height": null,
            "padding": null,
            "grid_auto_rows": null,
            "grid_gap": null,
            "max_width": null,
            "order": null,
            "_view_module_version": "1.2.0",
            "grid_template_areas": null,
            "object_position": null,
            "object_fit": null,
            "grid_auto_columns": null,
            "margin": null,
            "display": null,
            "left": null
          }
        },
        "2464ae08068249f6827c08030837e143": {
          "model_module": "@jupyter-widgets/controls",
          "model_name": "HTMLModel",
          "model_module_version": "1.5.0",
          "state": {
            "_view_name": "HTMLView",
            "style": "IPY_MODEL_0a1181d48026471b9e245284b1cd75c4",
            "_dom_classes": [],
            "description": "",
            "_model_name": "HTMLModel",
            "placeholder": "​",
            "_view_module": "@jupyter-widgets/controls",
            "_model_module_version": "1.5.0",
            "value": "100%",
            "_view_count": null,
            "_view_module_version": "1.5.0",
            "description_tooltip": null,
            "_model_module": "@jupyter-widgets/controls",
            "layout": "IPY_MODEL_38a6806afa164103b2ad932b769ca1de"
          }
        },
        "6f56a3dcaf6947a88076fd31106f3608": {
          "model_module": "@jupyter-widgets/controls",
          "model_name": "FloatProgressModel",
          "model_module_version": "1.5.0",
          "state": {
            "_view_name": "ProgressView",
            "style": "IPY_MODEL_30a320913eba492ca51bb95144d08338",
            "_dom_classes": [],
            "description": "",
            "_model_name": "FloatProgressModel",
            "bar_style": "success",
            "max": 5000,
            "_view_module": "@jupyter-widgets/controls",
            "_model_module_version": "1.5.0",
            "value": 5000,
            "_view_count": null,
            "_view_module_version": "1.5.0",
            "orientation": "horizontal",
            "min": 0,
            "description_tooltip": null,
            "_model_module": "@jupyter-widgets/controls",
            "layout": "IPY_MODEL_52e0326ec999491880e526d20e27549c"
          }
        },
        "1cbfd0a1e35646ab89cb19ee43c46c78": {
          "model_module": "@jupyter-widgets/controls",
          "model_name": "HTMLModel",
          "model_module_version": "1.5.0",
          "state": {
            "_view_name": "HTMLView",
            "style": "IPY_MODEL_3b1a740ccc02436fb25952fa28f65bb2",
            "_dom_classes": [],
            "description": "",
            "_model_name": "HTMLModel",
            "placeholder": "​",
            "_view_module": "@jupyter-widgets/controls",
            "_model_module_version": "1.5.0",
            "value": " 5000/5000 [01:01&lt;00:00, 79.35it/s]",
            "_view_count": null,
            "_view_module_version": "1.5.0",
            "description_tooltip": null,
            "_model_module": "@jupyter-widgets/controls",
            "layout": "IPY_MODEL_7616ddc9f8cc471396393526e3b6d18d"
          }
        },
        "0a1181d48026471b9e245284b1cd75c4": {
          "model_module": "@jupyter-widgets/controls",
          "model_name": "DescriptionStyleModel",
          "model_module_version": "1.5.0",
          "state": {
            "_view_name": "StyleView",
            "_model_name": "DescriptionStyleModel",
            "description_width": "",
            "_view_module": "@jupyter-widgets/base",
            "_model_module_version": "1.5.0",
            "_view_count": null,
            "_view_module_version": "1.2.0",
            "_model_module": "@jupyter-widgets/controls"
          }
        },
        "38a6806afa164103b2ad932b769ca1de": {
          "model_module": "@jupyter-widgets/base",
          "model_name": "LayoutModel",
          "model_module_version": "1.2.0",
          "state": {
            "_view_name": "LayoutView",
            "grid_template_rows": null,
            "right": null,
            "justify_content": null,
            "_view_module": "@jupyter-widgets/base",
            "overflow": null,
            "_model_module_version": "1.2.0",
            "_view_count": null,
            "flex_flow": null,
            "width": null,
            "min_width": null,
            "border": null,
            "align_items": null,
            "bottom": null,
            "_model_module": "@jupyter-widgets/base",
            "top": null,
            "grid_column": null,
            "overflow_y": null,
            "overflow_x": null,
            "grid_auto_flow": null,
            "grid_area": null,
            "grid_template_columns": null,
            "flex": null,
            "_model_name": "LayoutModel",
            "justify_items": null,
            "grid_row": null,
            "max_height": null,
            "align_content": null,
            "visibility": null,
            "align_self": null,
            "height": null,
            "min_height": null,
            "padding": null,
            "grid_auto_rows": null,
            "grid_gap": null,
            "max_width": null,
            "order": null,
            "_view_module_version": "1.2.0",
            "grid_template_areas": null,
            "object_position": null,
            "object_fit": null,
            "grid_auto_columns": null,
            "margin": null,
            "display": null,
            "left": null
          }
        },
        "30a320913eba492ca51bb95144d08338": {
          "model_module": "@jupyter-widgets/controls",
          "model_name": "ProgressStyleModel",
          "model_module_version": "1.5.0",
          "state": {
            "_view_name": "StyleView",
            "_model_name": "ProgressStyleModel",
            "description_width": "",
            "_view_module": "@jupyter-widgets/base",
            "_model_module_version": "1.5.0",
            "_view_count": null,
            "_view_module_version": "1.2.0",
            "bar_color": null,
            "_model_module": "@jupyter-widgets/controls"
          }
        },
        "52e0326ec999491880e526d20e27549c": {
          "model_module": "@jupyter-widgets/base",
          "model_name": "LayoutModel",
          "model_module_version": "1.2.0",
          "state": {
            "_view_name": "LayoutView",
            "grid_template_rows": null,
            "right": null,
            "justify_content": null,
            "_view_module": "@jupyter-widgets/base",
            "overflow": null,
            "_model_module_version": "1.2.0",
            "_view_count": null,
            "flex_flow": null,
            "width": null,
            "min_width": null,
            "border": null,
            "align_items": null,
            "bottom": null,
            "_model_module": "@jupyter-widgets/base",
            "top": null,
            "grid_column": null,
            "overflow_y": null,
            "overflow_x": null,
            "grid_auto_flow": null,
            "grid_area": null,
            "grid_template_columns": null,
            "flex": null,
            "_model_name": "LayoutModel",
            "justify_items": null,
            "grid_row": null,
            "max_height": null,
            "align_content": null,
            "visibility": null,
            "align_self": null,
            "height": null,
            "min_height": null,
            "padding": null,
            "grid_auto_rows": null,
            "grid_gap": null,
            "max_width": null,
            "order": null,
            "_view_module_version": "1.2.0",
            "grid_template_areas": null,
            "object_position": null,
            "object_fit": null,
            "grid_auto_columns": null,
            "margin": null,
            "display": null,
            "left": null
          }
        },
        "3b1a740ccc02436fb25952fa28f65bb2": {
          "model_module": "@jupyter-widgets/controls",
          "model_name": "DescriptionStyleModel",
          "model_module_version": "1.5.0",
          "state": {
            "_view_name": "StyleView",
            "_model_name": "DescriptionStyleModel",
            "description_width": "",
            "_view_module": "@jupyter-widgets/base",
            "_model_module_version": "1.5.0",
            "_view_count": null,
            "_view_module_version": "1.2.0",
            "_model_module": "@jupyter-widgets/controls"
          }
        },
        "7616ddc9f8cc471396393526e3b6d18d": {
          "model_module": "@jupyter-widgets/base",
          "model_name": "LayoutModel",
          "model_module_version": "1.2.0",
          "state": {
            "_view_name": "LayoutView",
            "grid_template_rows": null,
            "right": null,
            "justify_content": null,
            "_view_module": "@jupyter-widgets/base",
            "overflow": null,
            "_model_module_version": "1.2.0",
            "_view_count": null,
            "flex_flow": null,
            "width": null,
            "min_width": null,
            "border": null,
            "align_items": null,
            "bottom": null,
            "_model_module": "@jupyter-widgets/base",
            "top": null,
            "grid_column": null,
            "overflow_y": null,
            "overflow_x": null,
            "grid_auto_flow": null,
            "grid_area": null,
            "grid_template_columns": null,
            "flex": null,
            "_model_name": "LayoutModel",
            "justify_items": null,
            "grid_row": null,
            "max_height": null,
            "align_content": null,
            "visibility": null,
            "align_self": null,
            "height": null,
            "min_height": null,
            "padding": null,
            "grid_auto_rows": null,
            "grid_gap": null,
            "max_width": null,
            "order": null,
            "_view_module_version": "1.2.0",
            "grid_template_areas": null,
            "object_position": null,
            "object_fit": null,
            "grid_auto_columns": null,
            "margin": null,
            "display": null,
            "left": null
          }
        },
        "6286ebed03284e45be2df74211eb4fd5": {
          "model_module": "@jupyter-widgets/controls",
          "model_name": "HBoxModel",
          "model_module_version": "1.5.0",
          "state": {
            "_view_name": "HBoxView",
            "_dom_classes": [],
            "_model_name": "HBoxModel",
            "_view_module": "@jupyter-widgets/controls",
            "_model_module_version": "1.5.0",
            "_view_count": null,
            "_view_module_version": "1.5.0",
            "box_style": "",
            "layout": "IPY_MODEL_ae8feb02e6964981b910003b0c2b2ca5",
            "_model_module": "@jupyter-widgets/controls",
            "children": [
              "IPY_MODEL_bc6e8ecbb40e4b8f98b6bbd663351c56",
              "IPY_MODEL_31ae042e284049dc806b59b2a9d2d9c6",
              "IPY_MODEL_95fd9c9a6f9448f9bc6b833256312b9c"
            ]
          }
        },
        "ae8feb02e6964981b910003b0c2b2ca5": {
          "model_module": "@jupyter-widgets/base",
          "model_name": "LayoutModel",
          "model_module_version": "1.2.0",
          "state": {
            "_view_name": "LayoutView",
            "grid_template_rows": null,
            "right": null,
            "justify_content": null,
            "_view_module": "@jupyter-widgets/base",
            "overflow": null,
            "_model_module_version": "1.2.0",
            "_view_count": null,
            "flex_flow": null,
            "width": null,
            "min_width": null,
            "border": null,
            "align_items": null,
            "bottom": null,
            "_model_module": "@jupyter-widgets/base",
            "top": null,
            "grid_column": null,
            "overflow_y": null,
            "overflow_x": null,
            "grid_auto_flow": null,
            "grid_area": null,
            "grid_template_columns": null,
            "flex": null,
            "_model_name": "LayoutModel",
            "justify_items": null,
            "grid_row": null,
            "max_height": null,
            "align_content": null,
            "visibility": null,
            "align_self": null,
            "height": null,
            "min_height": null,
            "padding": null,
            "grid_auto_rows": null,
            "grid_gap": null,
            "max_width": null,
            "order": null,
            "_view_module_version": "1.2.0",
            "grid_template_areas": null,
            "object_position": null,
            "object_fit": null,
            "grid_auto_columns": null,
            "margin": null,
            "display": null,
            "left": null
          }
        },
        "bc6e8ecbb40e4b8f98b6bbd663351c56": {
          "model_module": "@jupyter-widgets/controls",
          "model_name": "HTMLModel",
          "model_module_version": "1.5.0",
          "state": {
            "_view_name": "HTMLView",
            "style": "IPY_MODEL_b34f642458cf43f4bd103030fbb24035",
            "_dom_classes": [],
            "description": "",
            "_model_name": "HTMLModel",
            "placeholder": "​",
            "_view_module": "@jupyter-widgets/controls",
            "_model_module_version": "1.5.0",
            "value": "100%",
            "_view_count": null,
            "_view_module_version": "1.5.0",
            "description_tooltip": null,
            "_model_module": "@jupyter-widgets/controls",
            "layout": "IPY_MODEL_39d7eac749354d0cb3aefc0baf3f6ab4"
          }
        },
        "31ae042e284049dc806b59b2a9d2d9c6": {
          "model_module": "@jupyter-widgets/controls",
          "model_name": "FloatProgressModel",
          "model_module_version": "1.5.0",
          "state": {
            "_view_name": "ProgressView",
            "style": "IPY_MODEL_c998521e978642699a499dc35c4dde52",
            "_dom_classes": [],
            "description": "",
            "_model_name": "FloatProgressModel",
            "bar_style": "success",
            "max": 5000,
            "_view_module": "@jupyter-widgets/controls",
            "_model_module_version": "1.5.0",
            "value": 5000,
            "_view_count": null,
            "_view_module_version": "1.5.0",
            "orientation": "horizontal",
            "min": 0,
            "description_tooltip": null,
            "_model_module": "@jupyter-widgets/controls",
            "layout": "IPY_MODEL_005c9017acd04a8981d4f10d27229c36"
          }
        },
        "95fd9c9a6f9448f9bc6b833256312b9c": {
          "model_module": "@jupyter-widgets/controls",
          "model_name": "HTMLModel",
          "model_module_version": "1.5.0",
          "state": {
            "_view_name": "HTMLView",
            "style": "IPY_MODEL_458aa21e1bcb41beab7d9e2be345207a",
            "_dom_classes": [],
            "description": "",
            "_model_name": "HTMLModel",
            "placeholder": "​",
            "_view_module": "@jupyter-widgets/controls",
            "_model_module_version": "1.5.0",
            "value": " 5000/5000 [03:26&lt;00:00, 24.72it/s]",
            "_view_count": null,
            "_view_module_version": "1.5.0",
            "description_tooltip": null,
            "_model_module": "@jupyter-widgets/controls",
            "layout": "IPY_MODEL_760915ea63ea422f8bb29e417d007309"
          }
        },
        "b34f642458cf43f4bd103030fbb24035": {
          "model_module": "@jupyter-widgets/controls",
          "model_name": "DescriptionStyleModel",
          "model_module_version": "1.5.0",
          "state": {
            "_view_name": "StyleView",
            "_model_name": "DescriptionStyleModel",
            "description_width": "",
            "_view_module": "@jupyter-widgets/base",
            "_model_module_version": "1.5.0",
            "_view_count": null,
            "_view_module_version": "1.2.0",
            "_model_module": "@jupyter-widgets/controls"
          }
        },
        "39d7eac749354d0cb3aefc0baf3f6ab4": {
          "model_module": "@jupyter-widgets/base",
          "model_name": "LayoutModel",
          "model_module_version": "1.2.0",
          "state": {
            "_view_name": "LayoutView",
            "grid_template_rows": null,
            "right": null,
            "justify_content": null,
            "_view_module": "@jupyter-widgets/base",
            "overflow": null,
            "_model_module_version": "1.2.0",
            "_view_count": null,
            "flex_flow": null,
            "width": null,
            "min_width": null,
            "border": null,
            "align_items": null,
            "bottom": null,
            "_model_module": "@jupyter-widgets/base",
            "top": null,
            "grid_column": null,
            "overflow_y": null,
            "overflow_x": null,
            "grid_auto_flow": null,
            "grid_area": null,
            "grid_template_columns": null,
            "flex": null,
            "_model_name": "LayoutModel",
            "justify_items": null,
            "grid_row": null,
            "max_height": null,
            "align_content": null,
            "visibility": null,
            "align_self": null,
            "height": null,
            "min_height": null,
            "padding": null,
            "grid_auto_rows": null,
            "grid_gap": null,
            "max_width": null,
            "order": null,
            "_view_module_version": "1.2.0",
            "grid_template_areas": null,
            "object_position": null,
            "object_fit": null,
            "grid_auto_columns": null,
            "margin": null,
            "display": null,
            "left": null
          }
        },
        "c998521e978642699a499dc35c4dde52": {
          "model_module": "@jupyter-widgets/controls",
          "model_name": "ProgressStyleModel",
          "model_module_version": "1.5.0",
          "state": {
            "_view_name": "StyleView",
            "_model_name": "ProgressStyleModel",
            "description_width": "",
            "_view_module": "@jupyter-widgets/base",
            "_model_module_version": "1.5.0",
            "_view_count": null,
            "_view_module_version": "1.2.0",
            "bar_color": null,
            "_model_module": "@jupyter-widgets/controls"
          }
        },
        "005c9017acd04a8981d4f10d27229c36": {
          "model_module": "@jupyter-widgets/base",
          "model_name": "LayoutModel",
          "model_module_version": "1.2.0",
          "state": {
            "_view_name": "LayoutView",
            "grid_template_rows": null,
            "right": null,
            "justify_content": null,
            "_view_module": "@jupyter-widgets/base",
            "overflow": null,
            "_model_module_version": "1.2.0",
            "_view_count": null,
            "flex_flow": null,
            "width": null,
            "min_width": null,
            "border": null,
            "align_items": null,
            "bottom": null,
            "_model_module": "@jupyter-widgets/base",
            "top": null,
            "grid_column": null,
            "overflow_y": null,
            "overflow_x": null,
            "grid_auto_flow": null,
            "grid_area": null,
            "grid_template_columns": null,
            "flex": null,
            "_model_name": "LayoutModel",
            "justify_items": null,
            "grid_row": null,
            "max_height": null,
            "align_content": null,
            "visibility": null,
            "align_self": null,
            "height": null,
            "min_height": null,
            "padding": null,
            "grid_auto_rows": null,
            "grid_gap": null,
            "max_width": null,
            "order": null,
            "_view_module_version": "1.2.0",
            "grid_template_areas": null,
            "object_position": null,
            "object_fit": null,
            "grid_auto_columns": null,
            "margin": null,
            "display": null,
            "left": null
          }
        },
        "458aa21e1bcb41beab7d9e2be345207a": {
          "model_module": "@jupyter-widgets/controls",
          "model_name": "DescriptionStyleModel",
          "model_module_version": "1.5.0",
          "state": {
            "_view_name": "StyleView",
            "_model_name": "DescriptionStyleModel",
            "description_width": "",
            "_view_module": "@jupyter-widgets/base",
            "_model_module_version": "1.5.0",
            "_view_count": null,
            "_view_module_version": "1.2.0",
            "_model_module": "@jupyter-widgets/controls"
          }
        },
        "760915ea63ea422f8bb29e417d007309": {
          "model_module": "@jupyter-widgets/base",
          "model_name": "LayoutModel",
          "model_module_version": "1.2.0",
          "state": {
            "_view_name": "LayoutView",
            "grid_template_rows": null,
            "right": null,
            "justify_content": null,
            "_view_module": "@jupyter-widgets/base",
            "overflow": null,
            "_model_module_version": "1.2.0",
            "_view_count": null,
            "flex_flow": null,
            "width": null,
            "min_width": null,
            "border": null,
            "align_items": null,
            "bottom": null,
            "_model_module": "@jupyter-widgets/base",
            "top": null,
            "grid_column": null,
            "overflow_y": null,
            "overflow_x": null,
            "grid_auto_flow": null,
            "grid_area": null,
            "grid_template_columns": null,
            "flex": null,
            "_model_name": "LayoutModel",
            "justify_items": null,
            "grid_row": null,
            "max_height": null,
            "align_content": null,
            "visibility": null,
            "align_self": null,
            "height": null,
            "min_height": null,
            "padding": null,
            "grid_auto_rows": null,
            "grid_gap": null,
            "max_width": null,
            "order": null,
            "_view_module_version": "1.2.0",
            "grid_template_areas": null,
            "object_position": null,
            "object_fit": null,
            "grid_auto_columns": null,
            "margin": null,
            "display": null,
            "left": null
          }
        },
        "2b0fc44b863949b7ab8b0e97dc51abc3": {
          "model_module": "@jupyter-widgets/controls",
          "model_name": "HBoxModel",
          "model_module_version": "1.5.0",
          "state": {
            "_view_name": "HBoxView",
            "_dom_classes": [],
            "_model_name": "HBoxModel",
            "_view_module": "@jupyter-widgets/controls",
            "_model_module_version": "1.5.0",
            "_view_count": null,
            "_view_module_version": "1.5.0",
            "box_style": "",
            "layout": "IPY_MODEL_a71ad9df005b4211b548b9e83defc73b",
            "_model_module": "@jupyter-widgets/controls",
            "children": [
              "IPY_MODEL_8a3221321de944febd3eec6023992f7e",
              "IPY_MODEL_5f7b7421c8ba45dba119afa3eb4558b5",
              "IPY_MODEL_98f595f034934cd1a8102d6b28fc71a7"
            ]
          }
        },
        "a71ad9df005b4211b548b9e83defc73b": {
          "model_module": "@jupyter-widgets/base",
          "model_name": "LayoutModel",
          "model_module_version": "1.2.0",
          "state": {
            "_view_name": "LayoutView",
            "grid_template_rows": null,
            "right": null,
            "justify_content": null,
            "_view_module": "@jupyter-widgets/base",
            "overflow": null,
            "_model_module_version": "1.2.0",
            "_view_count": null,
            "flex_flow": null,
            "width": null,
            "min_width": null,
            "border": null,
            "align_items": null,
            "bottom": null,
            "_model_module": "@jupyter-widgets/base",
            "top": null,
            "grid_column": null,
            "overflow_y": null,
            "overflow_x": null,
            "grid_auto_flow": null,
            "grid_area": null,
            "grid_template_columns": null,
            "flex": null,
            "_model_name": "LayoutModel",
            "justify_items": null,
            "grid_row": null,
            "max_height": null,
            "align_content": null,
            "visibility": null,
            "align_self": null,
            "height": null,
            "min_height": null,
            "padding": null,
            "grid_auto_rows": null,
            "grid_gap": null,
            "max_width": null,
            "order": null,
            "_view_module_version": "1.2.0",
            "grid_template_areas": null,
            "object_position": null,
            "object_fit": null,
            "grid_auto_columns": null,
            "margin": null,
            "display": null,
            "left": null
          }
        },
        "8a3221321de944febd3eec6023992f7e": {
          "model_module": "@jupyter-widgets/controls",
          "model_name": "HTMLModel",
          "model_module_version": "1.5.0",
          "state": {
            "_view_name": "HTMLView",
            "style": "IPY_MODEL_8b37e1f4754545f784a9e60877ccc832",
            "_dom_classes": [],
            "description": "",
            "_model_name": "HTMLModel",
            "placeholder": "​",
            "_view_module": "@jupyter-widgets/controls",
            "_model_module_version": "1.5.0",
            "value": "100%",
            "_view_count": null,
            "_view_module_version": "1.5.0",
            "description_tooltip": null,
            "_model_module": "@jupyter-widgets/controls",
            "layout": "IPY_MODEL_a76b86ac1ca142e4bb231af14be56d71"
          }
        },
        "5f7b7421c8ba45dba119afa3eb4558b5": {
          "model_module": "@jupyter-widgets/controls",
          "model_name": "FloatProgressModel",
          "model_module_version": "1.5.0",
          "state": {
            "_view_name": "ProgressView",
            "style": "IPY_MODEL_458ccd1b1a224e5daa8e274623b7cb22",
            "_dom_classes": [],
            "description": "",
            "_model_name": "FloatProgressModel",
            "bar_style": "success",
            "max": 5000,
            "_view_module": "@jupyter-widgets/controls",
            "_model_module_version": "1.5.0",
            "value": 5000,
            "_view_count": null,
            "_view_module_version": "1.5.0",
            "orientation": "horizontal",
            "min": 0,
            "description_tooltip": null,
            "_model_module": "@jupyter-widgets/controls",
            "layout": "IPY_MODEL_70251357b705448b93a258af01266e5e"
          }
        },
        "98f595f034934cd1a8102d6b28fc71a7": {
          "model_module": "@jupyter-widgets/controls",
          "model_name": "HTMLModel",
          "model_module_version": "1.5.0",
          "state": {
            "_view_name": "HTMLView",
            "style": "IPY_MODEL_c73bd2b787ef4f6fb37a355d29767850",
            "_dom_classes": [],
            "description": "",
            "_model_name": "HTMLModel",
            "placeholder": "​",
            "_view_module": "@jupyter-widgets/controls",
            "_model_module_version": "1.5.0",
            "value": " 5000/5000 [06:30&lt;00:00, 12.75it/s]",
            "_view_count": null,
            "_view_module_version": "1.5.0",
            "description_tooltip": null,
            "_model_module": "@jupyter-widgets/controls",
            "layout": "IPY_MODEL_09229edeb2594977aef6eca25dae824f"
          }
        },
        "8b37e1f4754545f784a9e60877ccc832": {
          "model_module": "@jupyter-widgets/controls",
          "model_name": "DescriptionStyleModel",
          "model_module_version": "1.5.0",
          "state": {
            "_view_name": "StyleView",
            "_model_name": "DescriptionStyleModel",
            "description_width": "",
            "_view_module": "@jupyter-widgets/base",
            "_model_module_version": "1.5.0",
            "_view_count": null,
            "_view_module_version": "1.2.0",
            "_model_module": "@jupyter-widgets/controls"
          }
        },
        "a76b86ac1ca142e4bb231af14be56d71": {
          "model_module": "@jupyter-widgets/base",
          "model_name": "LayoutModel",
          "model_module_version": "1.2.0",
          "state": {
            "_view_name": "LayoutView",
            "grid_template_rows": null,
            "right": null,
            "justify_content": null,
            "_view_module": "@jupyter-widgets/base",
            "overflow": null,
            "_model_module_version": "1.2.0",
            "_view_count": null,
            "flex_flow": null,
            "width": null,
            "min_width": null,
            "border": null,
            "align_items": null,
            "bottom": null,
            "_model_module": "@jupyter-widgets/base",
            "top": null,
            "grid_column": null,
            "overflow_y": null,
            "overflow_x": null,
            "grid_auto_flow": null,
            "grid_area": null,
            "grid_template_columns": null,
            "flex": null,
            "_model_name": "LayoutModel",
            "justify_items": null,
            "grid_row": null,
            "max_height": null,
            "align_content": null,
            "visibility": null,
            "align_self": null,
            "height": null,
            "min_height": null,
            "padding": null,
            "grid_auto_rows": null,
            "grid_gap": null,
            "max_width": null,
            "order": null,
            "_view_module_version": "1.2.0",
            "grid_template_areas": null,
            "object_position": null,
            "object_fit": null,
            "grid_auto_columns": null,
            "margin": null,
            "display": null,
            "left": null
          }
        },
        "458ccd1b1a224e5daa8e274623b7cb22": {
          "model_module": "@jupyter-widgets/controls",
          "model_name": "ProgressStyleModel",
          "model_module_version": "1.5.0",
          "state": {
            "_view_name": "StyleView",
            "_model_name": "ProgressStyleModel",
            "description_width": "",
            "_view_module": "@jupyter-widgets/base",
            "_model_module_version": "1.5.0",
            "_view_count": null,
            "_view_module_version": "1.2.0",
            "bar_color": null,
            "_model_module": "@jupyter-widgets/controls"
          }
        },
        "70251357b705448b93a258af01266e5e": {
          "model_module": "@jupyter-widgets/base",
          "model_name": "LayoutModel",
          "model_module_version": "1.2.0",
          "state": {
            "_view_name": "LayoutView",
            "grid_template_rows": null,
            "right": null,
            "justify_content": null,
            "_view_module": "@jupyter-widgets/base",
            "overflow": null,
            "_model_module_version": "1.2.0",
            "_view_count": null,
            "flex_flow": null,
            "width": null,
            "min_width": null,
            "border": null,
            "align_items": null,
            "bottom": null,
            "_model_module": "@jupyter-widgets/base",
            "top": null,
            "grid_column": null,
            "overflow_y": null,
            "overflow_x": null,
            "grid_auto_flow": null,
            "grid_area": null,
            "grid_template_columns": null,
            "flex": null,
            "_model_name": "LayoutModel",
            "justify_items": null,
            "grid_row": null,
            "max_height": null,
            "align_content": null,
            "visibility": null,
            "align_self": null,
            "height": null,
            "min_height": null,
            "padding": null,
            "grid_auto_rows": null,
            "grid_gap": null,
            "max_width": null,
            "order": null,
            "_view_module_version": "1.2.0",
            "grid_template_areas": null,
            "object_position": null,
            "object_fit": null,
            "grid_auto_columns": null,
            "margin": null,
            "display": null,
            "left": null
          }
        },
        "c73bd2b787ef4f6fb37a355d29767850": {
          "model_module": "@jupyter-widgets/controls",
          "model_name": "DescriptionStyleModel",
          "model_module_version": "1.5.0",
          "state": {
            "_view_name": "StyleView",
            "_model_name": "DescriptionStyleModel",
            "description_width": "",
            "_view_module": "@jupyter-widgets/base",
            "_model_module_version": "1.5.0",
            "_view_count": null,
            "_view_module_version": "1.2.0",
            "_model_module": "@jupyter-widgets/controls"
          }
        },
        "09229edeb2594977aef6eca25dae824f": {
          "model_module": "@jupyter-widgets/base",
          "model_name": "LayoutModel",
          "model_module_version": "1.2.0",
          "state": {
            "_view_name": "LayoutView",
            "grid_template_rows": null,
            "right": null,
            "justify_content": null,
            "_view_module": "@jupyter-widgets/base",
            "overflow": null,
            "_model_module_version": "1.2.0",
            "_view_count": null,
            "flex_flow": null,
            "width": null,
            "min_width": null,
            "border": null,
            "align_items": null,
            "bottom": null,
            "_model_module": "@jupyter-widgets/base",
            "top": null,
            "grid_column": null,
            "overflow_y": null,
            "overflow_x": null,
            "grid_auto_flow": null,
            "grid_area": null,
            "grid_template_columns": null,
            "flex": null,
            "_model_name": "LayoutModel",
            "justify_items": null,
            "grid_row": null,
            "max_height": null,
            "align_content": null,
            "visibility": null,
            "align_self": null,
            "height": null,
            "min_height": null,
            "padding": null,
            "grid_auto_rows": null,
            "grid_gap": null,
            "max_width": null,
            "order": null,
            "_view_module_version": "1.2.0",
            "grid_template_areas": null,
            "object_position": null,
            "object_fit": null,
            "grid_auto_columns": null,
            "margin": null,
            "display": null,
            "left": null
          }
        },
        "60ede4c5a5b444149e30b66ccb2653e5": {
          "model_module": "@jupyter-widgets/controls",
          "model_name": "HBoxModel",
          "model_module_version": "1.5.0",
          "state": {
            "_view_name": "HBoxView",
            "_dom_classes": [],
            "_model_name": "HBoxModel",
            "_view_module": "@jupyter-widgets/controls",
            "_model_module_version": "1.5.0",
            "_view_count": null,
            "_view_module_version": "1.5.0",
            "box_style": "",
            "layout": "IPY_MODEL_416757af31694c6ebbf8f2000dc4818d",
            "_model_module": "@jupyter-widgets/controls",
            "children": [
              "IPY_MODEL_4dba8987c72f4897a3b07cdeb4741457",
              "IPY_MODEL_89b6f490893e4175b6f9aade906fd1c4",
              "IPY_MODEL_87586d06eee44d1b9da32b97ee593022"
            ]
          }
        },
        "416757af31694c6ebbf8f2000dc4818d": {
          "model_module": "@jupyter-widgets/base",
          "model_name": "LayoutModel",
          "model_module_version": "1.2.0",
          "state": {
            "_view_name": "LayoutView",
            "grid_template_rows": null,
            "right": null,
            "justify_content": null,
            "_view_module": "@jupyter-widgets/base",
            "overflow": null,
            "_model_module_version": "1.2.0",
            "_view_count": null,
            "flex_flow": null,
            "width": null,
            "min_width": null,
            "border": null,
            "align_items": null,
            "bottom": null,
            "_model_module": "@jupyter-widgets/base",
            "top": null,
            "grid_column": null,
            "overflow_y": null,
            "overflow_x": null,
            "grid_auto_flow": null,
            "grid_area": null,
            "grid_template_columns": null,
            "flex": null,
            "_model_name": "LayoutModel",
            "justify_items": null,
            "grid_row": null,
            "max_height": null,
            "align_content": null,
            "visibility": null,
            "align_self": null,
            "height": null,
            "min_height": null,
            "padding": null,
            "grid_auto_rows": null,
            "grid_gap": null,
            "max_width": null,
            "order": null,
            "_view_module_version": "1.2.0",
            "grid_template_areas": null,
            "object_position": null,
            "object_fit": null,
            "grid_auto_columns": null,
            "margin": null,
            "display": null,
            "left": null
          }
        },
        "4dba8987c72f4897a3b07cdeb4741457": {
          "model_module": "@jupyter-widgets/controls",
          "model_name": "HTMLModel",
          "model_module_version": "1.5.0",
          "state": {
            "_view_name": "HTMLView",
            "style": "IPY_MODEL_9d1e301a34e8441d95a6bf9864bd1dd4",
            "_dom_classes": [],
            "description": "",
            "_model_name": "HTMLModel",
            "placeholder": "​",
            "_view_module": "@jupyter-widgets/controls",
            "_model_module_version": "1.5.0",
            "value": "100%",
            "_view_count": null,
            "_view_module_version": "1.5.0",
            "description_tooltip": null,
            "_model_module": "@jupyter-widgets/controls",
            "layout": "IPY_MODEL_9571083537434c7889de2e2948484982"
          }
        },
        "89b6f490893e4175b6f9aade906fd1c4": {
          "model_module": "@jupyter-widgets/controls",
          "model_name": "FloatProgressModel",
          "model_module_version": "1.5.0",
          "state": {
            "_view_name": "ProgressView",
            "style": "IPY_MODEL_dd191a65e90340399afb1098534b0e6e",
            "_dom_classes": [],
            "description": "",
            "_model_name": "FloatProgressModel",
            "bar_style": "success",
            "max": 5000,
            "_view_module": "@jupyter-widgets/controls",
            "_model_module_version": "1.5.0",
            "value": 5000,
            "_view_count": null,
            "_view_module_version": "1.5.0",
            "orientation": "horizontal",
            "min": 0,
            "description_tooltip": null,
            "_model_module": "@jupyter-widgets/controls",
            "layout": "IPY_MODEL_20e782f4c32d4b928b5c0ce588463113"
          }
        },
        "87586d06eee44d1b9da32b97ee593022": {
          "model_module": "@jupyter-widgets/controls",
          "model_name": "HTMLModel",
          "model_module_version": "1.5.0",
          "state": {
            "_view_name": "HTMLView",
            "style": "IPY_MODEL_e13d28e3870f474d81ff06dfdeab37eb",
            "_dom_classes": [],
            "description": "",
            "_model_name": "HTMLModel",
            "placeholder": "​",
            "_view_module": "@jupyter-widgets/controls",
            "_model_module_version": "1.5.0",
            "value": " 5000/5000 [01:38&lt;00:00, 49.79it/s]",
            "_view_count": null,
            "_view_module_version": "1.5.0",
            "description_tooltip": null,
            "_model_module": "@jupyter-widgets/controls",
            "layout": "IPY_MODEL_071186208954457a83d3aae3cfa9237c"
          }
        },
        "9d1e301a34e8441d95a6bf9864bd1dd4": {
          "model_module": "@jupyter-widgets/controls",
          "model_name": "DescriptionStyleModel",
          "model_module_version": "1.5.0",
          "state": {
            "_view_name": "StyleView",
            "_model_name": "DescriptionStyleModel",
            "description_width": "",
            "_view_module": "@jupyter-widgets/base",
            "_model_module_version": "1.5.0",
            "_view_count": null,
            "_view_module_version": "1.2.0",
            "_model_module": "@jupyter-widgets/controls"
          }
        },
        "9571083537434c7889de2e2948484982": {
          "model_module": "@jupyter-widgets/base",
          "model_name": "LayoutModel",
          "model_module_version": "1.2.0",
          "state": {
            "_view_name": "LayoutView",
            "grid_template_rows": null,
            "right": null,
            "justify_content": null,
            "_view_module": "@jupyter-widgets/base",
            "overflow": null,
            "_model_module_version": "1.2.0",
            "_view_count": null,
            "flex_flow": null,
            "width": null,
            "min_width": null,
            "border": null,
            "align_items": null,
            "bottom": null,
            "_model_module": "@jupyter-widgets/base",
            "top": null,
            "grid_column": null,
            "overflow_y": null,
            "overflow_x": null,
            "grid_auto_flow": null,
            "grid_area": null,
            "grid_template_columns": null,
            "flex": null,
            "_model_name": "LayoutModel",
            "justify_items": null,
            "grid_row": null,
            "max_height": null,
            "align_content": null,
            "visibility": null,
            "align_self": null,
            "height": null,
            "min_height": null,
            "padding": null,
            "grid_auto_rows": null,
            "grid_gap": null,
            "max_width": null,
            "order": null,
            "_view_module_version": "1.2.0",
            "grid_template_areas": null,
            "object_position": null,
            "object_fit": null,
            "grid_auto_columns": null,
            "margin": null,
            "display": null,
            "left": null
          }
        },
        "dd191a65e90340399afb1098534b0e6e": {
          "model_module": "@jupyter-widgets/controls",
          "model_name": "ProgressStyleModel",
          "model_module_version": "1.5.0",
          "state": {
            "_view_name": "StyleView",
            "_model_name": "ProgressStyleModel",
            "description_width": "",
            "_view_module": "@jupyter-widgets/base",
            "_model_module_version": "1.5.0",
            "_view_count": null,
            "_view_module_version": "1.2.0",
            "bar_color": null,
            "_model_module": "@jupyter-widgets/controls"
          }
        },
        "20e782f4c32d4b928b5c0ce588463113": {
          "model_module": "@jupyter-widgets/base",
          "model_name": "LayoutModel",
          "model_module_version": "1.2.0",
          "state": {
            "_view_name": "LayoutView",
            "grid_template_rows": null,
            "right": null,
            "justify_content": null,
            "_view_module": "@jupyter-widgets/base",
            "overflow": null,
            "_model_module_version": "1.2.0",
            "_view_count": null,
            "flex_flow": null,
            "width": null,
            "min_width": null,
            "border": null,
            "align_items": null,
            "bottom": null,
            "_model_module": "@jupyter-widgets/base",
            "top": null,
            "grid_column": null,
            "overflow_y": null,
            "overflow_x": null,
            "grid_auto_flow": null,
            "grid_area": null,
            "grid_template_columns": null,
            "flex": null,
            "_model_name": "LayoutModel",
            "justify_items": null,
            "grid_row": null,
            "max_height": null,
            "align_content": null,
            "visibility": null,
            "align_self": null,
            "height": null,
            "min_height": null,
            "padding": null,
            "grid_auto_rows": null,
            "grid_gap": null,
            "max_width": null,
            "order": null,
            "_view_module_version": "1.2.0",
            "grid_template_areas": null,
            "object_position": null,
            "object_fit": null,
            "grid_auto_columns": null,
            "margin": null,
            "display": null,
            "left": null
          }
        },
        "e13d28e3870f474d81ff06dfdeab37eb": {
          "model_module": "@jupyter-widgets/controls",
          "model_name": "DescriptionStyleModel",
          "model_module_version": "1.5.0",
          "state": {
            "_view_name": "StyleView",
            "_model_name": "DescriptionStyleModel",
            "description_width": "",
            "_view_module": "@jupyter-widgets/base",
            "_model_module_version": "1.5.0",
            "_view_count": null,
            "_view_module_version": "1.2.0",
            "_model_module": "@jupyter-widgets/controls"
          }
        },
        "071186208954457a83d3aae3cfa9237c": {
          "model_module": "@jupyter-widgets/base",
          "model_name": "LayoutModel",
          "model_module_version": "1.2.0",
          "state": {
            "_view_name": "LayoutView",
            "grid_template_rows": null,
            "right": null,
            "justify_content": null,
            "_view_module": "@jupyter-widgets/base",
            "overflow": null,
            "_model_module_version": "1.2.0",
            "_view_count": null,
            "flex_flow": null,
            "width": null,
            "min_width": null,
            "border": null,
            "align_items": null,
            "bottom": null,
            "_model_module": "@jupyter-widgets/base",
            "top": null,
            "grid_column": null,
            "overflow_y": null,
            "overflow_x": null,
            "grid_auto_flow": null,
            "grid_area": null,
            "grid_template_columns": null,
            "flex": null,
            "_model_name": "LayoutModel",
            "justify_items": null,
            "grid_row": null,
            "max_height": null,
            "align_content": null,
            "visibility": null,
            "align_self": null,
            "height": null,
            "min_height": null,
            "padding": null,
            "grid_auto_rows": null,
            "grid_gap": null,
            "max_width": null,
            "order": null,
            "_view_module_version": "1.2.0",
            "grid_template_areas": null,
            "object_position": null,
            "object_fit": null,
            "grid_auto_columns": null,
            "margin": null,
            "display": null,
            "left": null
          }
        },
        "dc78e061de874f86a28084a05efe6794": {
          "model_module": "@jupyter-widgets/controls",
          "model_name": "HBoxModel",
          "model_module_version": "1.5.0",
          "state": {
            "_view_name": "HBoxView",
            "_dom_classes": [],
            "_model_name": "HBoxModel",
            "_view_module": "@jupyter-widgets/controls",
            "_model_module_version": "1.5.0",
            "_view_count": null,
            "_view_module_version": "1.5.0",
            "box_style": "",
            "layout": "IPY_MODEL_397c6399c21d4ed3bc1362e106ecb453",
            "_model_module": "@jupyter-widgets/controls",
            "children": [
              "IPY_MODEL_f300398ad3aa4b58957c85f9b6d1a616",
              "IPY_MODEL_491baea8cba940c28b7f21cf3b96ecfb",
              "IPY_MODEL_2ba56e2003ed498c92d1aa78ea6c2578"
            ]
          }
        },
        "397c6399c21d4ed3bc1362e106ecb453": {
          "model_module": "@jupyter-widgets/base",
          "model_name": "LayoutModel",
          "model_module_version": "1.2.0",
          "state": {
            "_view_name": "LayoutView",
            "grid_template_rows": null,
            "right": null,
            "justify_content": null,
            "_view_module": "@jupyter-widgets/base",
            "overflow": null,
            "_model_module_version": "1.2.0",
            "_view_count": null,
            "flex_flow": null,
            "width": null,
            "min_width": null,
            "border": null,
            "align_items": null,
            "bottom": null,
            "_model_module": "@jupyter-widgets/base",
            "top": null,
            "grid_column": null,
            "overflow_y": null,
            "overflow_x": null,
            "grid_auto_flow": null,
            "grid_area": null,
            "grid_template_columns": null,
            "flex": null,
            "_model_name": "LayoutModel",
            "justify_items": null,
            "grid_row": null,
            "max_height": null,
            "align_content": null,
            "visibility": null,
            "align_self": null,
            "height": null,
            "min_height": null,
            "padding": null,
            "grid_auto_rows": null,
            "grid_gap": null,
            "max_width": null,
            "order": null,
            "_view_module_version": "1.2.0",
            "grid_template_areas": null,
            "object_position": null,
            "object_fit": null,
            "grid_auto_columns": null,
            "margin": null,
            "display": null,
            "left": null
          }
        },
        "f300398ad3aa4b58957c85f9b6d1a616": {
          "model_module": "@jupyter-widgets/controls",
          "model_name": "HTMLModel",
          "model_module_version": "1.5.0",
          "state": {
            "_view_name": "HTMLView",
            "style": "IPY_MODEL_0587b3bcfa54441f913067c9c18b2972",
            "_dom_classes": [],
            "description": "",
            "_model_name": "HTMLModel",
            "placeholder": "​",
            "_view_module": "@jupyter-widgets/controls",
            "_model_module_version": "1.5.0",
            "value": "100%",
            "_view_count": null,
            "_view_module_version": "1.5.0",
            "description_tooltip": null,
            "_model_module": "@jupyter-widgets/controls",
            "layout": "IPY_MODEL_209259a0fe9e410b9d8def35aecf500e"
          }
        },
        "491baea8cba940c28b7f21cf3b96ecfb": {
          "model_module": "@jupyter-widgets/controls",
          "model_name": "FloatProgressModel",
          "model_module_version": "1.5.0",
          "state": {
            "_view_name": "ProgressView",
            "style": "IPY_MODEL_37026497754b438483badc4415d70ae8",
            "_dom_classes": [],
            "description": "",
            "_model_name": "FloatProgressModel",
            "bar_style": "success",
            "max": 5000,
            "_view_module": "@jupyter-widgets/controls",
            "_model_module_version": "1.5.0",
            "value": 5000,
            "_view_count": null,
            "_view_module_version": "1.5.0",
            "orientation": "horizontal",
            "min": 0,
            "description_tooltip": null,
            "_model_module": "@jupyter-widgets/controls",
            "layout": "IPY_MODEL_b5bdac40b5c947b585179c90b4d5de91"
          }
        },
        "2ba56e2003ed498c92d1aa78ea6c2578": {
          "model_module": "@jupyter-widgets/controls",
          "model_name": "HTMLModel",
          "model_module_version": "1.5.0",
          "state": {
            "_view_name": "HTMLView",
            "style": "IPY_MODEL_a5126db24b92460eab10c2478c596f63",
            "_dom_classes": [],
            "description": "",
            "_model_name": "HTMLModel",
            "placeholder": "​",
            "_view_module": "@jupyter-widgets/controls",
            "_model_module_version": "1.5.0",
            "value": " 5000/5000 [05:28&lt;00:00, 15.78it/s]",
            "_view_count": null,
            "_view_module_version": "1.5.0",
            "description_tooltip": null,
            "_model_module": "@jupyter-widgets/controls",
            "layout": "IPY_MODEL_4a204b57154a4611bc6b416edd4730e9"
          }
        },
        "0587b3bcfa54441f913067c9c18b2972": {
          "model_module": "@jupyter-widgets/controls",
          "model_name": "DescriptionStyleModel",
          "model_module_version": "1.5.0",
          "state": {
            "_view_name": "StyleView",
            "_model_name": "DescriptionStyleModel",
            "description_width": "",
            "_view_module": "@jupyter-widgets/base",
            "_model_module_version": "1.5.0",
            "_view_count": null,
            "_view_module_version": "1.2.0",
            "_model_module": "@jupyter-widgets/controls"
          }
        },
        "209259a0fe9e410b9d8def35aecf500e": {
          "model_module": "@jupyter-widgets/base",
          "model_name": "LayoutModel",
          "model_module_version": "1.2.0",
          "state": {
            "_view_name": "LayoutView",
            "grid_template_rows": null,
            "right": null,
            "justify_content": null,
            "_view_module": "@jupyter-widgets/base",
            "overflow": null,
            "_model_module_version": "1.2.0",
            "_view_count": null,
            "flex_flow": null,
            "width": null,
            "min_width": null,
            "border": null,
            "align_items": null,
            "bottom": null,
            "_model_module": "@jupyter-widgets/base",
            "top": null,
            "grid_column": null,
            "overflow_y": null,
            "overflow_x": null,
            "grid_auto_flow": null,
            "grid_area": null,
            "grid_template_columns": null,
            "flex": null,
            "_model_name": "LayoutModel",
            "justify_items": null,
            "grid_row": null,
            "max_height": null,
            "align_content": null,
            "visibility": null,
            "align_self": null,
            "height": null,
            "min_height": null,
            "padding": null,
            "grid_auto_rows": null,
            "grid_gap": null,
            "max_width": null,
            "order": null,
            "_view_module_version": "1.2.0",
            "grid_template_areas": null,
            "object_position": null,
            "object_fit": null,
            "grid_auto_columns": null,
            "margin": null,
            "display": null,
            "left": null
          }
        },
        "37026497754b438483badc4415d70ae8": {
          "model_module": "@jupyter-widgets/controls",
          "model_name": "ProgressStyleModel",
          "model_module_version": "1.5.0",
          "state": {
            "_view_name": "StyleView",
            "_model_name": "ProgressStyleModel",
            "description_width": "",
            "_view_module": "@jupyter-widgets/base",
            "_model_module_version": "1.5.0",
            "_view_count": null,
            "_view_module_version": "1.2.0",
            "bar_color": null,
            "_model_module": "@jupyter-widgets/controls"
          }
        },
        "b5bdac40b5c947b585179c90b4d5de91": {
          "model_module": "@jupyter-widgets/base",
          "model_name": "LayoutModel",
          "model_module_version": "1.2.0",
          "state": {
            "_view_name": "LayoutView",
            "grid_template_rows": null,
            "right": null,
            "justify_content": null,
            "_view_module": "@jupyter-widgets/base",
            "overflow": null,
            "_model_module_version": "1.2.0",
            "_view_count": null,
            "flex_flow": null,
            "width": null,
            "min_width": null,
            "border": null,
            "align_items": null,
            "bottom": null,
            "_model_module": "@jupyter-widgets/base",
            "top": null,
            "grid_column": null,
            "overflow_y": null,
            "overflow_x": null,
            "grid_auto_flow": null,
            "grid_area": null,
            "grid_template_columns": null,
            "flex": null,
            "_model_name": "LayoutModel",
            "justify_items": null,
            "grid_row": null,
            "max_height": null,
            "align_content": null,
            "visibility": null,
            "align_self": null,
            "height": null,
            "min_height": null,
            "padding": null,
            "grid_auto_rows": null,
            "grid_gap": null,
            "max_width": null,
            "order": null,
            "_view_module_version": "1.2.0",
            "grid_template_areas": null,
            "object_position": null,
            "object_fit": null,
            "grid_auto_columns": null,
            "margin": null,
            "display": null,
            "left": null
          }
        },
        "a5126db24b92460eab10c2478c596f63": {
          "model_module": "@jupyter-widgets/controls",
          "model_name": "DescriptionStyleModel",
          "model_module_version": "1.5.0",
          "state": {
            "_view_name": "StyleView",
            "_model_name": "DescriptionStyleModel",
            "description_width": "",
            "_view_module": "@jupyter-widgets/base",
            "_model_module_version": "1.5.0",
            "_view_count": null,
            "_view_module_version": "1.2.0",
            "_model_module": "@jupyter-widgets/controls"
          }
        },
        "4a204b57154a4611bc6b416edd4730e9": {
          "model_module": "@jupyter-widgets/base",
          "model_name": "LayoutModel",
          "model_module_version": "1.2.0",
          "state": {
            "_view_name": "LayoutView",
            "grid_template_rows": null,
            "right": null,
            "justify_content": null,
            "_view_module": "@jupyter-widgets/base",
            "overflow": null,
            "_model_module_version": "1.2.0",
            "_view_count": null,
            "flex_flow": null,
            "width": null,
            "min_width": null,
            "border": null,
            "align_items": null,
            "bottom": null,
            "_model_module": "@jupyter-widgets/base",
            "top": null,
            "grid_column": null,
            "overflow_y": null,
            "overflow_x": null,
            "grid_auto_flow": null,
            "grid_area": null,
            "grid_template_columns": null,
            "flex": null,
            "_model_name": "LayoutModel",
            "justify_items": null,
            "grid_row": null,
            "max_height": null,
            "align_content": null,
            "visibility": null,
            "align_self": null,
            "height": null,
            "min_height": null,
            "padding": null,
            "grid_auto_rows": null,
            "grid_gap": null,
            "max_width": null,
            "order": null,
            "_view_module_version": "1.2.0",
            "grid_template_areas": null,
            "object_position": null,
            "object_fit": null,
            "grid_auto_columns": null,
            "margin": null,
            "display": null,
            "left": null
          }
        },
        "d5df6d096abc41b29c026ed45a48d0f9": {
          "model_module": "@jupyter-widgets/controls",
          "model_name": "HBoxModel",
          "model_module_version": "1.5.0",
          "state": {
            "_view_name": "HBoxView",
            "_dom_classes": [],
            "_model_name": "HBoxModel",
            "_view_module": "@jupyter-widgets/controls",
            "_model_module_version": "1.5.0",
            "_view_count": null,
            "_view_module_version": "1.5.0",
            "box_style": "",
            "layout": "IPY_MODEL_c1126684950b4e829a4652eec4450617",
            "_model_module": "@jupyter-widgets/controls",
            "children": [
              "IPY_MODEL_1947e53543ea46b58edda09cd9d285ac",
              "IPY_MODEL_464b366d56e44efea5dcf2f08950e39f",
              "IPY_MODEL_7b29b8b4aba947b58c457ca007cca4c0"
            ]
          }
        },
        "c1126684950b4e829a4652eec4450617": {
          "model_module": "@jupyter-widgets/base",
          "model_name": "LayoutModel",
          "model_module_version": "1.2.0",
          "state": {
            "_view_name": "LayoutView",
            "grid_template_rows": null,
            "right": null,
            "justify_content": null,
            "_view_module": "@jupyter-widgets/base",
            "overflow": null,
            "_model_module_version": "1.2.0",
            "_view_count": null,
            "flex_flow": null,
            "width": null,
            "min_width": null,
            "border": null,
            "align_items": null,
            "bottom": null,
            "_model_module": "@jupyter-widgets/base",
            "top": null,
            "grid_column": null,
            "overflow_y": null,
            "overflow_x": null,
            "grid_auto_flow": null,
            "grid_area": null,
            "grid_template_columns": null,
            "flex": null,
            "_model_name": "LayoutModel",
            "justify_items": null,
            "grid_row": null,
            "max_height": null,
            "align_content": null,
            "visibility": null,
            "align_self": null,
            "height": null,
            "min_height": null,
            "padding": null,
            "grid_auto_rows": null,
            "grid_gap": null,
            "max_width": null,
            "order": null,
            "_view_module_version": "1.2.0",
            "grid_template_areas": null,
            "object_position": null,
            "object_fit": null,
            "grid_auto_columns": null,
            "margin": null,
            "display": null,
            "left": null
          }
        },
        "1947e53543ea46b58edda09cd9d285ac": {
          "model_module": "@jupyter-widgets/controls",
          "model_name": "HTMLModel",
          "model_module_version": "1.5.0",
          "state": {
            "_view_name": "HTMLView",
            "style": "IPY_MODEL_6a0ffedce6414cf197c64f1b1fa931c6",
            "_dom_classes": [],
            "description": "",
            "_model_name": "HTMLModel",
            "placeholder": "​",
            "_view_module": "@jupyter-widgets/controls",
            "_model_module_version": "1.5.0",
            "value": "100%",
            "_view_count": null,
            "_view_module_version": "1.5.0",
            "description_tooltip": null,
            "_model_module": "@jupyter-widgets/controls",
            "layout": "IPY_MODEL_d6ab233702a14cb885c878b4f1f4d2e9"
          }
        },
        "464b366d56e44efea5dcf2f08950e39f": {
          "model_module": "@jupyter-widgets/controls",
          "model_name": "FloatProgressModel",
          "model_module_version": "1.5.0",
          "state": {
            "_view_name": "ProgressView",
            "style": "IPY_MODEL_a1d970768cdf4c0390dfb02516c1cc23",
            "_dom_classes": [],
            "description": "",
            "_model_name": "FloatProgressModel",
            "bar_style": "success",
            "max": 5000,
            "_view_module": "@jupyter-widgets/controls",
            "_model_module_version": "1.5.0",
            "value": 5000,
            "_view_count": null,
            "_view_module_version": "1.5.0",
            "orientation": "horizontal",
            "min": 0,
            "description_tooltip": null,
            "_model_module": "@jupyter-widgets/controls",
            "layout": "IPY_MODEL_8e0db2ef902d4670b4e747b13a19948e"
          }
        },
        "7b29b8b4aba947b58c457ca007cca4c0": {
          "model_module": "@jupyter-widgets/controls",
          "model_name": "HTMLModel",
          "model_module_version": "1.5.0",
          "state": {
            "_view_name": "HTMLView",
            "style": "IPY_MODEL_8222ee859e0a40b8a8a0f568baf50a38",
            "_dom_classes": [],
            "description": "",
            "_model_name": "HTMLModel",
            "placeholder": "​",
            "_view_module": "@jupyter-widgets/controls",
            "_model_module_version": "1.5.0",
            "value": " 5000/5000 [10:36&lt;00:00,  7.82it/s]",
            "_view_count": null,
            "_view_module_version": "1.5.0",
            "description_tooltip": null,
            "_model_module": "@jupyter-widgets/controls",
            "layout": "IPY_MODEL_c9519335da414aa4bc111c3aff2cc4d0"
          }
        },
        "6a0ffedce6414cf197c64f1b1fa931c6": {
          "model_module": "@jupyter-widgets/controls",
          "model_name": "DescriptionStyleModel",
          "model_module_version": "1.5.0",
          "state": {
            "_view_name": "StyleView",
            "_model_name": "DescriptionStyleModel",
            "description_width": "",
            "_view_module": "@jupyter-widgets/base",
            "_model_module_version": "1.5.0",
            "_view_count": null,
            "_view_module_version": "1.2.0",
            "_model_module": "@jupyter-widgets/controls"
          }
        },
        "d6ab233702a14cb885c878b4f1f4d2e9": {
          "model_module": "@jupyter-widgets/base",
          "model_name": "LayoutModel",
          "model_module_version": "1.2.0",
          "state": {
            "_view_name": "LayoutView",
            "grid_template_rows": null,
            "right": null,
            "justify_content": null,
            "_view_module": "@jupyter-widgets/base",
            "overflow": null,
            "_model_module_version": "1.2.0",
            "_view_count": null,
            "flex_flow": null,
            "width": null,
            "min_width": null,
            "border": null,
            "align_items": null,
            "bottom": null,
            "_model_module": "@jupyter-widgets/base",
            "top": null,
            "grid_column": null,
            "overflow_y": null,
            "overflow_x": null,
            "grid_auto_flow": null,
            "grid_area": null,
            "grid_template_columns": null,
            "flex": null,
            "_model_name": "LayoutModel",
            "justify_items": null,
            "grid_row": null,
            "max_height": null,
            "align_content": null,
            "visibility": null,
            "align_self": null,
            "height": null,
            "min_height": null,
            "padding": null,
            "grid_auto_rows": null,
            "grid_gap": null,
            "max_width": null,
            "order": null,
            "_view_module_version": "1.2.0",
            "grid_template_areas": null,
            "object_position": null,
            "object_fit": null,
            "grid_auto_columns": null,
            "margin": null,
            "display": null,
            "left": null
          }
        },
        "a1d970768cdf4c0390dfb02516c1cc23": {
          "model_module": "@jupyter-widgets/controls",
          "model_name": "ProgressStyleModel",
          "model_module_version": "1.5.0",
          "state": {
            "_view_name": "StyleView",
            "_model_name": "ProgressStyleModel",
            "description_width": "",
            "_view_module": "@jupyter-widgets/base",
            "_model_module_version": "1.5.0",
            "_view_count": null,
            "_view_module_version": "1.2.0",
            "bar_color": null,
            "_model_module": "@jupyter-widgets/controls"
          }
        },
        "8e0db2ef902d4670b4e747b13a19948e": {
          "model_module": "@jupyter-widgets/base",
          "model_name": "LayoutModel",
          "model_module_version": "1.2.0",
          "state": {
            "_view_name": "LayoutView",
            "grid_template_rows": null,
            "right": null,
            "justify_content": null,
            "_view_module": "@jupyter-widgets/base",
            "overflow": null,
            "_model_module_version": "1.2.0",
            "_view_count": null,
            "flex_flow": null,
            "width": null,
            "min_width": null,
            "border": null,
            "align_items": null,
            "bottom": null,
            "_model_module": "@jupyter-widgets/base",
            "top": null,
            "grid_column": null,
            "overflow_y": null,
            "overflow_x": null,
            "grid_auto_flow": null,
            "grid_area": null,
            "grid_template_columns": null,
            "flex": null,
            "_model_name": "LayoutModel",
            "justify_items": null,
            "grid_row": null,
            "max_height": null,
            "align_content": null,
            "visibility": null,
            "align_self": null,
            "height": null,
            "min_height": null,
            "padding": null,
            "grid_auto_rows": null,
            "grid_gap": null,
            "max_width": null,
            "order": null,
            "_view_module_version": "1.2.0",
            "grid_template_areas": null,
            "object_position": null,
            "object_fit": null,
            "grid_auto_columns": null,
            "margin": null,
            "display": null,
            "left": null
          }
        },
        "8222ee859e0a40b8a8a0f568baf50a38": {
          "model_module": "@jupyter-widgets/controls",
          "model_name": "DescriptionStyleModel",
          "model_module_version": "1.5.0",
          "state": {
            "_view_name": "StyleView",
            "_model_name": "DescriptionStyleModel",
            "description_width": "",
            "_view_module": "@jupyter-widgets/base",
            "_model_module_version": "1.5.0",
            "_view_count": null,
            "_view_module_version": "1.2.0",
            "_model_module": "@jupyter-widgets/controls"
          }
        },
        "c9519335da414aa4bc111c3aff2cc4d0": {
          "model_module": "@jupyter-widgets/base",
          "model_name": "LayoutModel",
          "model_module_version": "1.2.0",
          "state": {
            "_view_name": "LayoutView",
            "grid_template_rows": null,
            "right": null,
            "justify_content": null,
            "_view_module": "@jupyter-widgets/base",
            "overflow": null,
            "_model_module_version": "1.2.0",
            "_view_count": null,
            "flex_flow": null,
            "width": null,
            "min_width": null,
            "border": null,
            "align_items": null,
            "bottom": null,
            "_model_module": "@jupyter-widgets/base",
            "top": null,
            "grid_column": null,
            "overflow_y": null,
            "overflow_x": null,
            "grid_auto_flow": null,
            "grid_area": null,
            "grid_template_columns": null,
            "flex": null,
            "_model_name": "LayoutModel",
            "justify_items": null,
            "grid_row": null,
            "max_height": null,
            "align_content": null,
            "visibility": null,
            "align_self": null,
            "height": null,
            "min_height": null,
            "padding": null,
            "grid_auto_rows": null,
            "grid_gap": null,
            "max_width": null,
            "order": null,
            "_view_module_version": "1.2.0",
            "grid_template_areas": null,
            "object_position": null,
            "object_fit": null,
            "grid_auto_columns": null,
            "margin": null,
            "display": null,
            "left": null
          }
        },
        "e18d91d8fcc944b69cfc6f8cab83de3d": {
          "model_module": "@jupyter-widgets/controls",
          "model_name": "HBoxModel",
          "model_module_version": "1.5.0",
          "state": {
            "_view_name": "HBoxView",
            "_dom_classes": [],
            "_model_name": "HBoxModel",
            "_view_module": "@jupyter-widgets/controls",
            "_model_module_version": "1.5.0",
            "_view_count": null,
            "_view_module_version": "1.5.0",
            "box_style": "",
            "layout": "IPY_MODEL_7cedcc5909824d8496407c181d3ac566",
            "_model_module": "@jupyter-widgets/controls",
            "children": [
              "IPY_MODEL_22a3afd9965f4b33ae8b3d7a21bd3700",
              "IPY_MODEL_188aaa1f62ea44c68a8da296a6dea5d3",
              "IPY_MODEL_5bb0b39959f147909770a2180f15bda3"
            ]
          }
        },
        "7cedcc5909824d8496407c181d3ac566": {
          "model_module": "@jupyter-widgets/base",
          "model_name": "LayoutModel",
          "model_module_version": "1.2.0",
          "state": {
            "_view_name": "LayoutView",
            "grid_template_rows": null,
            "right": null,
            "justify_content": null,
            "_view_module": "@jupyter-widgets/base",
            "overflow": null,
            "_model_module_version": "1.2.0",
            "_view_count": null,
            "flex_flow": null,
            "width": null,
            "min_width": null,
            "border": null,
            "align_items": null,
            "bottom": null,
            "_model_module": "@jupyter-widgets/base",
            "top": null,
            "grid_column": null,
            "overflow_y": null,
            "overflow_x": null,
            "grid_auto_flow": null,
            "grid_area": null,
            "grid_template_columns": null,
            "flex": null,
            "_model_name": "LayoutModel",
            "justify_items": null,
            "grid_row": null,
            "max_height": null,
            "align_content": null,
            "visibility": null,
            "align_self": null,
            "height": null,
            "min_height": null,
            "padding": null,
            "grid_auto_rows": null,
            "grid_gap": null,
            "max_width": null,
            "order": null,
            "_view_module_version": "1.2.0",
            "grid_template_areas": null,
            "object_position": null,
            "object_fit": null,
            "grid_auto_columns": null,
            "margin": null,
            "display": null,
            "left": null
          }
        },
        "22a3afd9965f4b33ae8b3d7a21bd3700": {
          "model_module": "@jupyter-widgets/controls",
          "model_name": "HTMLModel",
          "model_module_version": "1.5.0",
          "state": {
            "_view_name": "HTMLView",
            "style": "IPY_MODEL_939cba560baa45d08b59163740b6bff8",
            "_dom_classes": [],
            "description": "",
            "_model_name": "HTMLModel",
            "placeholder": "​",
            "_view_module": "@jupyter-widgets/controls",
            "_model_module_version": "1.5.0",
            "value": "100%",
            "_view_count": null,
            "_view_module_version": "1.5.0",
            "description_tooltip": null,
            "_model_module": "@jupyter-widgets/controls",
            "layout": "IPY_MODEL_49fd41664a394b8ab38a459a0a7b8c84"
          }
        },
        "188aaa1f62ea44c68a8da296a6dea5d3": {
          "model_module": "@jupyter-widgets/controls",
          "model_name": "FloatProgressModel",
          "model_module_version": "1.5.0",
          "state": {
            "_view_name": "ProgressView",
            "style": "IPY_MODEL_87deb046f4ca4a5c9083666ad71f0bea",
            "_dom_classes": [],
            "description": "",
            "_model_name": "FloatProgressModel",
            "bar_style": "success",
            "max": 5000,
            "_view_module": "@jupyter-widgets/controls",
            "_model_module_version": "1.5.0",
            "value": 5000,
            "_view_count": null,
            "_view_module_version": "1.5.0",
            "orientation": "horizontal",
            "min": 0,
            "description_tooltip": null,
            "_model_module": "@jupyter-widgets/controls",
            "layout": "IPY_MODEL_b4003b1b5cc74e1099523c2dbd40337b"
          }
        },
        "5bb0b39959f147909770a2180f15bda3": {
          "model_module": "@jupyter-widgets/controls",
          "model_name": "HTMLModel",
          "model_module_version": "1.5.0",
          "state": {
            "_view_name": "HTMLView",
            "style": "IPY_MODEL_75d51d7568d041f2b0124da04ddb255e",
            "_dom_classes": [],
            "description": "",
            "_model_name": "HTMLModel",
            "placeholder": "​",
            "_view_module": "@jupyter-widgets/controls",
            "_model_module_version": "1.5.0",
            "value": " 5000/5000 [00:42&lt;00:00, 113.41it/s]",
            "_view_count": null,
            "_view_module_version": "1.5.0",
            "description_tooltip": null,
            "_model_module": "@jupyter-widgets/controls",
            "layout": "IPY_MODEL_4803314ff1eb45aa98c333199deca192"
          }
        },
        "939cba560baa45d08b59163740b6bff8": {
          "model_module": "@jupyter-widgets/controls",
          "model_name": "DescriptionStyleModel",
          "model_module_version": "1.5.0",
          "state": {
            "_view_name": "StyleView",
            "_model_name": "DescriptionStyleModel",
            "description_width": "",
            "_view_module": "@jupyter-widgets/base",
            "_model_module_version": "1.5.0",
            "_view_count": null,
            "_view_module_version": "1.2.0",
            "_model_module": "@jupyter-widgets/controls"
          }
        },
        "49fd41664a394b8ab38a459a0a7b8c84": {
          "model_module": "@jupyter-widgets/base",
          "model_name": "LayoutModel",
          "model_module_version": "1.2.0",
          "state": {
            "_view_name": "LayoutView",
            "grid_template_rows": null,
            "right": null,
            "justify_content": null,
            "_view_module": "@jupyter-widgets/base",
            "overflow": null,
            "_model_module_version": "1.2.0",
            "_view_count": null,
            "flex_flow": null,
            "width": null,
            "min_width": null,
            "border": null,
            "align_items": null,
            "bottom": null,
            "_model_module": "@jupyter-widgets/base",
            "top": null,
            "grid_column": null,
            "overflow_y": null,
            "overflow_x": null,
            "grid_auto_flow": null,
            "grid_area": null,
            "grid_template_columns": null,
            "flex": null,
            "_model_name": "LayoutModel",
            "justify_items": null,
            "grid_row": null,
            "max_height": null,
            "align_content": null,
            "visibility": null,
            "align_self": null,
            "height": null,
            "min_height": null,
            "padding": null,
            "grid_auto_rows": null,
            "grid_gap": null,
            "max_width": null,
            "order": null,
            "_view_module_version": "1.2.0",
            "grid_template_areas": null,
            "object_position": null,
            "object_fit": null,
            "grid_auto_columns": null,
            "margin": null,
            "display": null,
            "left": null
          }
        },
        "87deb046f4ca4a5c9083666ad71f0bea": {
          "model_module": "@jupyter-widgets/controls",
          "model_name": "ProgressStyleModel",
          "model_module_version": "1.5.0",
          "state": {
            "_view_name": "StyleView",
            "_model_name": "ProgressStyleModel",
            "description_width": "",
            "_view_module": "@jupyter-widgets/base",
            "_model_module_version": "1.5.0",
            "_view_count": null,
            "_view_module_version": "1.2.0",
            "bar_color": null,
            "_model_module": "@jupyter-widgets/controls"
          }
        },
        "b4003b1b5cc74e1099523c2dbd40337b": {
          "model_module": "@jupyter-widgets/base",
          "model_name": "LayoutModel",
          "model_module_version": "1.2.0",
          "state": {
            "_view_name": "LayoutView",
            "grid_template_rows": null,
            "right": null,
            "justify_content": null,
            "_view_module": "@jupyter-widgets/base",
            "overflow": null,
            "_model_module_version": "1.2.0",
            "_view_count": null,
            "flex_flow": null,
            "width": null,
            "min_width": null,
            "border": null,
            "align_items": null,
            "bottom": null,
            "_model_module": "@jupyter-widgets/base",
            "top": null,
            "grid_column": null,
            "overflow_y": null,
            "overflow_x": null,
            "grid_auto_flow": null,
            "grid_area": null,
            "grid_template_columns": null,
            "flex": null,
            "_model_name": "LayoutModel",
            "justify_items": null,
            "grid_row": null,
            "max_height": null,
            "align_content": null,
            "visibility": null,
            "align_self": null,
            "height": null,
            "min_height": null,
            "padding": null,
            "grid_auto_rows": null,
            "grid_gap": null,
            "max_width": null,
            "order": null,
            "_view_module_version": "1.2.0",
            "grid_template_areas": null,
            "object_position": null,
            "object_fit": null,
            "grid_auto_columns": null,
            "margin": null,
            "display": null,
            "left": null
          }
        },
        "75d51d7568d041f2b0124da04ddb255e": {
          "model_module": "@jupyter-widgets/controls",
          "model_name": "DescriptionStyleModel",
          "model_module_version": "1.5.0",
          "state": {
            "_view_name": "StyleView",
            "_model_name": "DescriptionStyleModel",
            "description_width": "",
            "_view_module": "@jupyter-widgets/base",
            "_model_module_version": "1.5.0",
            "_view_count": null,
            "_view_module_version": "1.2.0",
            "_model_module": "@jupyter-widgets/controls"
          }
        },
        "4803314ff1eb45aa98c333199deca192": {
          "model_module": "@jupyter-widgets/base",
          "model_name": "LayoutModel",
          "model_module_version": "1.2.0",
          "state": {
            "_view_name": "LayoutView",
            "grid_template_rows": null,
            "right": null,
            "justify_content": null,
            "_view_module": "@jupyter-widgets/base",
            "overflow": null,
            "_model_module_version": "1.2.0",
            "_view_count": null,
            "flex_flow": null,
            "width": null,
            "min_width": null,
            "border": null,
            "align_items": null,
            "bottom": null,
            "_model_module": "@jupyter-widgets/base",
            "top": null,
            "grid_column": null,
            "overflow_y": null,
            "overflow_x": null,
            "grid_auto_flow": null,
            "grid_area": null,
            "grid_template_columns": null,
            "flex": null,
            "_model_name": "LayoutModel",
            "justify_items": null,
            "grid_row": null,
            "max_height": null,
            "align_content": null,
            "visibility": null,
            "align_self": null,
            "height": null,
            "min_height": null,
            "padding": null,
            "grid_auto_rows": null,
            "grid_gap": null,
            "max_width": null,
            "order": null,
            "_view_module_version": "1.2.0",
            "grid_template_areas": null,
            "object_position": null,
            "object_fit": null,
            "grid_auto_columns": null,
            "margin": null,
            "display": null,
            "left": null
          }
        }
      }
    }
  },
  "cells": [
    {
      "cell_type": "code",
      "metadata": {
        "colab": {
          "base_uri": "https://localhost:8080/"
        },
        "id": "KVsRRrcWy1GC",
        "outputId": "0c5e55c1-36dd-4b21-ee5b-d2312b28e5fb"
      },
      "source": [
        "!pip install pyro-ppl\n",
        "# !pip install arviz\n",
        "!pip install tikzplotlib\n",
        "# remember pandas.DataFrame.to_latex"
      ],
      "execution_count": null,
      "outputs": [
        {
          "output_type": "stream",
          "name": "stdout",
          "text": [
            "Requirement already satisfied: pyro-ppl in /usr/local/lib/python3.7/dist-packages (1.7.0)\n",
            "Requirement already satisfied: tqdm>=4.36 in /usr/local/lib/python3.7/dist-packages (from pyro-ppl) (4.62.3)\n",
            "Requirement already satisfied: torch>=1.9.0 in /usr/local/lib/python3.7/dist-packages (from pyro-ppl) (1.9.0+cu102)\n",
            "Requirement already satisfied: opt-einsum>=2.3.2 in /usr/local/lib/python3.7/dist-packages (from pyro-ppl) (3.3.0)\n",
            "Requirement already satisfied: numpy>=1.7 in /usr/local/lib/python3.7/dist-packages (from pyro-ppl) (1.19.5)\n",
            "Requirement already satisfied: pyro-api>=0.1.1 in /usr/local/lib/python3.7/dist-packages (from pyro-ppl) (0.1.2)\n",
            "Requirement already satisfied: typing-extensions in /usr/local/lib/python3.7/dist-packages (from torch>=1.9.0->pyro-ppl) (3.7.4.3)\n",
            "Collecting tikzplotlib\n",
            "  Downloading tikzplotlib-0.9.13-py3-none-any.whl (53 kB)\n",
            "\u001b[K     |████████████████████████████████| 53 kB 1.7 MB/s \n",
            "\u001b[?25hRequirement already satisfied: importlib-metadata in /usr/local/lib/python3.7/dist-packages (from tikzplotlib) (4.8.1)\n",
            "Requirement already satisfied: numpy in /usr/local/lib/python3.7/dist-packages (from tikzplotlib) (1.19.5)\n",
            "Requirement already satisfied: Pillow in /usr/local/lib/python3.7/dist-packages (from tikzplotlib) (7.1.2)\n",
            "Requirement already satisfied: matplotlib>=1.4.0 in /usr/local/lib/python3.7/dist-packages (from tikzplotlib) (3.2.2)\n",
            "Requirement already satisfied: cycler>=0.10 in /usr/local/lib/python3.7/dist-packages (from matplotlib>=1.4.0->tikzplotlib) (0.10.0)\n",
            "Requirement already satisfied: kiwisolver>=1.0.1 in /usr/local/lib/python3.7/dist-packages (from matplotlib>=1.4.0->tikzplotlib) (1.3.2)\n",
            "Requirement already satisfied: pyparsing!=2.0.4,!=2.1.2,!=2.1.6,>=2.0.1 in /usr/local/lib/python3.7/dist-packages (from matplotlib>=1.4.0->tikzplotlib) (2.4.7)\n",
            "Requirement already satisfied: python-dateutil>=2.1 in /usr/local/lib/python3.7/dist-packages (from matplotlib>=1.4.0->tikzplotlib) (2.8.2)\n",
            "Requirement already satisfied: six in /usr/local/lib/python3.7/dist-packages (from cycler>=0.10->matplotlib>=1.4.0->tikzplotlib) (1.15.0)\n",
            "Requirement already satisfied: zipp>=0.5 in /usr/local/lib/python3.7/dist-packages (from importlib-metadata->tikzplotlib) (3.6.0)\n",
            "Requirement already satisfied: typing-extensions>=3.6.4 in /usr/local/lib/python3.7/dist-packages (from importlib-metadata->tikzplotlib) (3.7.4.3)\n",
            "Installing collected packages: tikzplotlib\n",
            "Successfully installed tikzplotlib-0.9.13\n"
          ]
        }
      ]
    },
    {
      "cell_type": "markdown",
      "metadata": {
        "id": "ijXqlVRee4fO"
      },
      "source": [
        "## Helpers & imports"
      ]
    },
    {
      "cell_type": "code",
      "metadata": {
        "id": "YzZ_mxMWk1Uw"
      },
      "source": [
        "import torch\n",
        "from torch import nn\n",
        "import numpy as npssss\n",
        "\n",
        "import matplotlib.pyplot as plt\n",
        "import tikzplotlib\n",
        "import seaborn as sns\n",
        "%matplotlib inline\n",
        "\n",
        "\n",
        "import pyro as pyro\n",
        "import pyro.distributions as dist\n",
        "from pyro.infer import SVI, Trace_ELBO, TraceMeanField_ELBO\n",
        "from pyro.infer.autoguide import AutoDiagonalNormal, AutoMultivariateNormal, AutoNormalizingFlow\n",
        "from pyro.optim import Adam\n",
        "from pyro.distributions.transforms import iterated, block_autoregressive, planar, radial\n",
        "from pyro.infer import Predictive\n",
        "\n",
        "import tqdm\n",
        "from functools import partial\n",
        "from collections import defaultdict\n",
        "import random\n",
        "\n",
        "random.seed(0)\n",
        "np.random.seed(0)\n",
        "torch.manual_seed(0)\n",
        "pyro.set_rng_seed(0)\n",
        "pyro.enable_validation(True)"
      ],
      "execution_count": 37,
      "outputs": []
    },
    {
      "cell_type": "code",
      "metadata": {
        "id": "6kDdWebUtP2p"
      },
      "source": [
        "def train(model, guide, epochs, gradient_mc_samples=1, adam_params={\"lr\": 3e-4}, plot=True):\n",
        "    optim = Adam(adam_params)\n",
        "    loss = Trace_ELBO(num_particles=gradient_mc_samples)\n",
        "    svi = SVI(model, guide, optim, loss=loss)\n",
        "    pyro.clear_param_store()\n",
        "\n",
        "    gradient_norms = defaultdict(list)\n",
        "    register_gradient_hooks(svi, gradient_norms, [data])\n",
        "\n",
        "    losses = np.zeros(epochs)\n",
        "    for i in tqdm.notebook.tqdm(range(epochs)):\n",
        "        losses[i] = svi.step(data)\n",
        "\n",
        "    if plot:\n",
        "        plt.plot(-losses)\n",
        "        plt.ylabel(\"ELBO\")\n",
        "        plt.xlabel(\"Iteration\")\n",
        "        plt.show()\n",
        "\n",
        "    return {\"svi\": svi, \"losses\": losses, \"gradient_norms\": gradient_norms}"
      ],
      "execution_count": 38,
      "outputs": []
    },
    {
      "cell_type": "code",
      "metadata": {
        "id": "GIS7Yie3e5g9"
      },
      "source": [
        "def register_gradient_hooks(svi, gradient_norms, svi_args=[]):\n",
        "    # Register hooks to monitor gradient norms.\n",
        "    svi.step(*svi_args)\n",
        "    for name, value in pyro.get_param_store().named_parameters():\n",
        "        value.register_hook(lambda g, name=name: gradient_norms[name].append(g.norm().item()))"
      ],
      "execution_count": 39,
      "outputs": []
    },
    {
      "cell_type": "code",
      "metadata": {
        "id": "4z2yi8W_jD7E"
      },
      "source": [
        "def evaluate_exact_pdf(exact_log_density, lims, point_density):\n",
        "    xx, yy = np.meshgrid(np.linspace(lims[0][0], lims[0][1], point_density),\n",
        "                        np.linspace(lims[1][0], lims[1][1], point_density))\n",
        "    z = torch.tensor(np.concatenate((xx.reshape(-1, 1), yy.reshape(-1, 1)), axis=1))\n",
        "    density = torch.exp(exact_log_density(z)).reshape(point_density, point_density)\n",
        "    return density\n",
        "\n",
        "def plot_exact_pdf(exact_log_density, ax, lims=np.array([[-4, 4], [-4, 4]]), point_density=100,\n",
        "                       name=None):\n",
        "    density = evaluate_exact_pdf(exact_log_density, lims, point_density)\n",
        "    ax.imshow(density, extent=([lims[0][0], lims[0][1], lims[1][0], lims[1][1]]), cmap=\"coolwarm\")\n",
        "    if name is not None:\n",
        "        plt.title(f\"$-{name}$\", fontsize=22)"
      ],
      "execution_count": 40,
      "outputs": []
    },
    {
      "cell_type": "code",
      "metadata": {
        "id": "31Bm9_2gjZNF"
      },
      "source": [
        "def plot_pdf(dist, xmin=-4,xmax=4,ymin=-4,ymax=4,point_density=100):\n",
        "    x = np.linspace(xmin, xmax, point_density)\n",
        "    y = np.linspace(ymin, ymax, point_density)\n",
        "    X, Y = np.meshgrid(x,y)\n",
        "    pos = np.empty(X.shape + (2,))\n",
        "    pos[:, :, 0] = X; pos[:, :, 1] = Y\n",
        "    Z = torch.exp(dist.log_prob(torch.tensor(pos)))\n",
        "    CS = plt.contour(X, Y, Z, levels=10, cmap=\"coolwarm\")"
      ],
      "execution_count": 41,
      "outputs": []
    },
    {
      "cell_type": "markdown",
      "metadata": {
        "id": "ZaZGjkela0Qr"
      },
      "source": [
        "### Energy distributions"
      ]
    },
    {
      "cell_type": "code",
      "metadata": {
        "id": "J02m0aX9azci"
      },
      "source": [
        "from pyro.distributions import TorchDistribution\n",
        "\n",
        "class EnergyDistribution(TorchDistribution):\n",
        "    def __init__(self, type):\n",
        "        super().__init__(validate_args=False)\n",
        "\n",
        "        self.type = type\n",
        "\n",
        "        w1 = lambda x: torch.sin((2 * np.pi * x) / 4)\n",
        "        w2 = lambda x: 3 * torch.exp(-(((x - 1) / 0.6) ** 2) / 2)\n",
        "        w3 = lambda x: 3 * 1 / (1 + torch.exp(- ((x - 1) / 0.3)))\n",
        "\n",
        "        self.U1 = lambda x, y: (((torch.sqrt(x ** 2 + y ** 2) - 2) / 0.4) ** 2) / 2 - torch.log(\n",
        "            1e-15 + (torch.exp(-(((x - 2) / 0.6) ** 2) / 2) + torch.exp(-(((x + 2) / 0.6) ** 2) / 2)))\n",
        "        self.U2 = lambda x, y: (((y - w1(x)) / 0.4) ** 2) / 2\n",
        "        self.U3 = lambda x, y: - torch.log(1e-15 + torch.exp(-(((y - w1(x)) / 0.35) ** 2) / 2) + torch.exp(\n",
        "            -(((y - w1(x) + w2(x)) / 0.35) ** 2) / 2))\n",
        "        self.U4 = lambda x, y: - torch.log(1e-15 + torch.exp(-(((y - w1(x)) / 0.4) ** 2) / 2) + torch.exp(\n",
        "            -(((y - w1(x) + w3(x)) / 0.35) ** 2) / 2))\n",
        "        \n",
        "        if self.type == \"U1\":\n",
        "            self._energy_fn = self.U1\n",
        "        elif self.type == \"U2\":\n",
        "            self._energy_fn = self.U2\n",
        "        elif self.type == \"U3\":\n",
        "            self._energy_fn = self.U3\n",
        "        elif self.type == \"U4\":\n",
        "            self._energy_fn = self.U4\n",
        "        else:\n",
        "            raise BaseException(\"Distribution not found.\")\n",
        "\n",
        "        self._event_shape = torch.Size((2,))\n",
        "\n",
        "    def log_prob(self, z):\n",
        "        if len(z.shape) == 1:\n",
        "            x, y = z[0], z[1]\n",
        "        elif len(z.shape) == 2:\n",
        "            x, y = z[:,0], z[:,1]\n",
        "        elif len(z.shape) == 3:\n",
        "            x, y = z[:,:,0], z[:,:,1]\n",
        "        else:\n",
        "            raise(BaseException(\"Error in log_prob dim: len(z.shape) > 3!\"))\n",
        "        return -self._energy_fn(x, y)\n"
      ],
      "execution_count": 42,
      "outputs": []
    },
    {
      "cell_type": "markdown",
      "metadata": {
        "id": "CE969cjLeAfS"
      },
      "source": [
        "### Covariance matrix priors"
      ]
    },
    {
      "cell_type": "code",
      "metadata": {
        "id": "w07XqM_Dcs0s"
      },
      "source": [
        "    # # Thanks to https://fehiepsi.github.io/rethinking-numpyro/14-adventures-in-covariance.html\n",
        "    # sigma_cafe = pyro.sample(\"sigma_cafe\", dist.Exponential(1).expand([2]).to_event(1))\n",
        "    # rho = pyro.sample(\"rho\", dist.LKJ(2, 2))\n",
        "    # scale = torch.outer(sigma_cafe, sigma_cafe) * rho\n",
        "\n",
        "    # # Thanks to https://forum.pyro.ai/t/best-practice-for-variational-inference-of-covariance-matrices/3011\n",
        "    # p = 2\n",
        "    # # Sample the scales of the covariance matrix.\n",
        "    # d = dist.Gamma(1, 1).expand([p]).independent(1)\n",
        "    # var = pyro.sample('scale', d)\n",
        "    # # Sample the correlation matrix.\n",
        "    # d = dist.LKJCholesky(p, 1)\n",
        "    # cholesky_corr = pyro.sample('cholesky_corr', d)\n",
        "    # # Evaluate the Cholesky decomposition of the covariance matrix.\n",
        "    # scale = cholesky_corr * torch.sqrt(var[:, None])\n",
        "\n",
        "    # # Thanks to https://pyro.ai/examples/lkj.html\n",
        "    # # Vector of variances for each of the d variables\n",
        "    # theta = pyro.sample(\"theta\", dist.HalfCauchy(torch.ones(2)).to_event(1))\n",
        "    # # Lower cholesky factor of a correlation matrix\n",
        "    # L_omega = pyro.sample(\"L_omega\", dist.LKJCholesky(2))\n",
        "    # # Lower cholesky factor of the covariance matrix\n",
        "    # scale = torch.mm(torch.diag(theta.sqrt()), L_omega)\n",
        "    # # For inference with SVI, one might prefer to use torch.bmm(theta.sqrt().diag_embed(), L_omega)"
      ],
      "execution_count": 43,
      "outputs": []
    },
    {
      "cell_type": "markdown",
      "metadata": {
        "id": "wBTlqqFR4Fi9"
      },
      "source": [
        "# A quick explanation of Pyro\n",
        "\n",
        "\n",
        "\n",
        "Every pyro.sample statement without the obs keyword that appears in the model must have a corresponding pyro.sample statement with the same name in the guide.\n",
        "These are the latent variables that we are trying to determine using inference.\n",
        "\n",
        "Furthermore, pyro.sample statements with the obs keyword (which can only be in the model) correspond to the observed variable $x$ for which we (obviously) have data.\n",
        "\n",
        "Finally, pyro.param statements that only appear in the guide are the variational parameters that we are optimizing for.\n",
        "\n",
        "However, pyro.param statements in the model are also optimized for (I think (why does it do this?)).\n",
        "I think this because when we run get_param_store() we can see that the parameters we defined have changed value."
      ]
    },
    {
      "cell_type": "markdown",
      "metadata": {
        "id": "Lf-IRrTegIFQ"
      },
      "source": [
        "* https://pyro.ai/examples/tensor_shapes.html\n",
        "* https://pyro.ai/examples/svi_part_i.html\n",
        "* http://pyro.ai/examples/svi_part_iv.html\n",
        "* https://medium.com/paper-club/understanding-pyros-model-and-guide-a-love-story-7f3aa0603886\n",
        "* https://github.com/pyro-ppl/pyro/issues/2281\n",
        "* https://github.com/pyro-ppl/pyro/pull/2282"
      ]
    },
    {
      "cell_type": "markdown",
      "metadata": {
        "id": "03n3uYo6IR91"
      },
      "source": [
        "*Note: Remember, the covariance matrix has to be positive definite!*"
      ]
    },
    {
      "cell_type": "code",
      "metadata": {
        "id": "n4X_2clPooRg"
      },
      "source": [
        "N = 5000\n",
        "\n",
        "loc = torch.Tensor([2.,-6.])\n",
        "# scale = torch.Tensor([[2.9,0],[0,3.8]])\n",
        "scale = torch.Tensor([[2.9,-2.6],[-2.6,3.8]])\n",
        "true_distribution = dist.MultivariateNormal(loc, scale)\n",
        "data = true_distribution(torch.Size([N]))\n",
        "\n",
        "sample_loc = torch.mean(data, axis=0)\n",
        "sample_scale = torch.tensor(np.cov(data.detach().cpu().numpy().T))"
      ],
      "execution_count": null,
      "outputs": []
    },
    {
      "cell_type": "code",
      "metadata": {
        "id": "G3Cfawh6on1D"
      },
      "source": [
        "def model(data=None):\n",
        "    loc_of_loc = torch.zeros(2)\n",
        "    scale_of_loc = torch.ones(2)\n",
        "    \n",
        "    # Priors\n",
        "    loc = pyro.sample(\"loc\", dist.MultivariateNormal(loc_of_loc,torch.diag(scale_of_loc)))\n",
        "    scale = pyro.param(\"scale\",torch.eye(2,2)) # scale = torch.diag(pyro.sample(\"scale\", dist.LogNormal(torch.zeros(2), torch.ones(2)).to_event(1)))\n",
        "    \n",
        "    # Posterior model\n",
        "    if data is not None:\n",
        "        with pyro.plate(\"data\", N):\n",
        "            return pyro.sample(\"x\", dist.MultivariateNormal(loc, scale), obs=data)\n",
        "    else:\n",
        "        return pyro.sample(\"x\", dist.MultivariateNormal(loc, scale))\n",
        "\n",
        "# # Mean-field\n",
        "# guide = AutoDiagonalNormal(model)\n",
        "\n",
        "# # Full-rank\n",
        "# guide = AutoMultivariateNormal(model)\n",
        "\n",
        "# Normalizing flow\n",
        "num_flows = 4\n",
        "transform_init = partial(iterated, num_flows, planar)\n",
        "guide = AutoNormalizingFlow(model, transform_init)"
      ],
      "execution_count": null,
      "outputs": []
    },
    {
      "cell_type": "code",
      "metadata": {
        "colab": {
          "base_uri": "https://localhost:8080/",
          "height": 311,
          "referenced_widgets": [
            "6b8422fb7fc543d3af19f736e00f2334",
            "17055cd672a4476eb53c36e1ebddbe83",
            "d2f3d76dd70b4d70bcb59c2525b60481",
            "e1d4db6be2604698a35fcc569b45a1d1",
            "e3666cbbb666461c906a2bb47efb0ee2",
            "5a53c27bd6404996b78d11d7f7706b1e",
            "e38a73bb29844482ab901fada01db4ba",
            "3d5801df7e63435db725226c6158c1f9",
            "fb6a47b587e4434fbcea74d71ad285db",
            "6262792039a04648a149fb1db193cf36",
            "54ac4382ae5445eab903f265e0d51df8"
          ]
        },
        "id": "S60HDVgLR1ID",
        "outputId": "ea54335b-f26f-42e5-b57e-2c21d6c9fd5a"
      },
      "source": [
        "train_result = train(model, guide, 5000, adam_params={\"lr\": 5e-3})"
      ],
      "execution_count": null,
      "outputs": [
        {
          "output_type": "display_data",
          "data": {
            "application/vnd.jupyter.widget-view+json": {
              "model_id": "6b8422fb7fc543d3af19f736e00f2334",
              "version_minor": 0,
              "version_major": 2
            },
            "text/plain": [
              "  0%|          | 0/5000 [00:00<?, ?it/s]"
            ]
          },
          "metadata": {}
        },
        {
          "output_type": "display_data",
          "data": {
            "image/png": "[encoded data removed]",
            "text/plain": [
              "<Figure size 432x288 with 1 Axes>"
            ]
          },
          "metadata": {
            "needs_background": "light"
          }
        }
      ]
    },
    {
      "cell_type": "code",
      "metadata": {
        "colab": {
          "base_uri": "https://localhost:8080/"
        },
        "id": "XpoW5iBJWwJG",
        "outputId": "adbb248d-c596-4c81-8609-e0c9be451d61"
      },
      "source": [
        "for key, value in pyro.get_param_store().items():\n",
        "    print(f\"{key}:{value.shape}\")"
      ],
      "execution_count": null,
      "outputs": [
        {
          "output_type": "stream",
          "name": "stdout",
          "text": [
            "scale:torch.Size([2, 2])\n",
            "AutoDiagonalNormal.loc:torch.Size([2])\n",
            "AutoDiagonalNormal.scale:torch.Size([2])\n"
          ]
        }
      ]
    },
    {
      "cell_type": "markdown",
      "metadata": {
        "id": "hYxxPmraFoL4"
      },
      "source": [
        "# Sample from prior"
      ]
    },
    {
      "cell_type": "code",
      "metadata": {
        "id": "3FkOPF08FALk"
      },
      "source": [
        "prior = Predictive(model, num_samples=5000)\n",
        "prior_samples = prior.get_samples()[\"loc\"]"
      ],
      "execution_count": null,
      "outputs": []
    },
    {
      "cell_type": "code",
      "metadata": {
        "colab": {
          "base_uri": "https://localhost:8080/"
        },
        "id": "mhZSp-fyTw1t",
        "outputId": "73284a0e-d048-461a-930d-eefa233beda7"
      },
      "source": [
        "sns.kdeplot(x=prior_samples[:,0], y=prior_samples[:,1], color=\"g\", alpha = 0.5, label=\"prior $q(θ)$\")\n",
        "plt.xlabel(\"$\\mu_1$\")\n",
        "plt.ylabel(\"$\\mu_2$\")\n",
        "plt.legend()\n",
        "plt.show()"
      ],
      "execution_count": null,
      "outputs": [
        {
          "output_type": "display_data",
          "data": {
            "image/png": "[encoded data removed]",
            "text/plain": [
              "<Figure size 432x288 with 1 Axes>"
            ]
          },
          "metadata": {
            "needs_background": "light"
          }
        }
      ]
    },
    {
      "cell_type": "markdown",
      "metadata": {
        "id": "pO2GR7NU2ntK"
      },
      "source": [
        "# Exact inference of posterior with conjugate distributions (not implemented yet)"
      ]
    },
    {
      "cell_type": "markdown",
      "metadata": {
        "id": "_AOD-6Iv2rez"
      },
      "source": [
        "\\begin{equation}\n",
        "    p(\\theta | x) = \\frac{p(x | \\theta) \\cdot p(\\theta)}{p(x)} \\propto p(x | \\theta) \\cdot p(\\theta)\n",
        "\\end{equation}"
      ]
    },
    {
      "cell_type": "code",
      "metadata": {
        "id": "BTKRFHAqZhLo"
      },
      "source": [
        ""
      ],
      "execution_count": null,
      "outputs": []
    },
    {
      "cell_type": "markdown",
      "metadata": {
        "id": "XysgFF6zujvx"
      },
      "source": [
        "# Sample from posterior approximation"
      ]
    },
    {
      "cell_type": "markdown",
      "metadata": {
        "id": "g03qXiSnLADa"
      },
      "source": [
        "\\begin{equation}\n",
        "    p(\\theta | x) = \\frac{p(x | \\theta) \\cdot p(\\theta)}{p(x)} \\propto p(x | \\theta) \\cdot p(\\theta) \\approx q(\\theta)\n",
        "\\end{equation}"
      ]
    },
    {
      "cell_type": "code",
      "metadata": {
        "id": "LdDPJ-oPGTN6"
      },
      "source": [
        "posterior = guide.get_posterior()\n",
        "posterior_samples = posterior(torch.Size([5000])).data # posterior_samples = np.array([guide()[\"loc\"].data.numpy() for _ in range(5000)])"
      ],
      "execution_count": null,
      "outputs": []
    },
    {
      "cell_type": "code",
      "metadata": {
        "colab": {
          "base_uri": "https://localhost:8080/"
        },
        "id": "HjlWLrFRK4wW",
        "outputId": "ff2b91f6-06ee-4ac3-e43f-a86f6676b32b"
      },
      "source": [
        "sns.kdeplot(x=posterior_samples[:,0], y=posterior_samples[:,1], color=\"b\", alpha = 0.5, label=\"posterior $q(θ)$\")\n",
        "# sns.kdeplot(x=prior_samples[:,0], y=prior_samples[:,1], color=\"g\", alpha = 0.5, label=\"prior $q(θ)$\")\n",
        "plt.scatter(x=loc[0], y=loc[1], color=\"r\", label=\"real $\\mu$\")\n",
        "plt.scatter(x=sample_loc[0], y=sample_loc[1], color=\"r\", label=\"sampled $\\mu$\", marker=\"x\")\n",
        "plt.title(\"Variational approximation of posterior model $q(θ)$\")\n",
        "plt.xlabel(\"$\\mu_1$\")\n",
        "plt.ylabel(\"$\\mu_2$\")\n",
        "plt.legend()\n",
        "plt.show()"
      ],
      "execution_count": null,
      "outputs": [
        {
          "output_type": "display_data",
          "data": {
            "image/png": "[encoded data removed]",
            "text/plain": [
              "<Figure size 432x288 with 1 Axes>"
            ]
          },
          "metadata": {
            "needs_background": "light"
          }
        }
      ]
    },
    {
      "cell_type": "markdown",
      "metadata": {
        "id": "9f33hJ2em9ub"
      },
      "source": [
        "Why is the variance always underestimated?"
      ]
    },
    {
      "cell_type": "code",
      "metadata": {
        "id": "G-_CrAMAFn7J"
      },
      "source": [
        "if posterior_samples.shape[1] > 2:\n",
        "    sns.kdeplot(x=posterior_samples[:,2], color=\"b\", alpha = 0.5, label=\"$\\sigma_1$\")\n",
        "    sns.kdeplot(x=posterior_samples[:,3], color=\"g\", alpha = 0.5, label=\"$\\sigma_2$\")\n",
        "    plt.scatter(x=sample_scale[0, 0], y=0, color=\"b\", marker=\"x\")\n",
        "    plt.scatter(x=sample_scale[1, 1], y=0, color=\"g\", marker=\"x\")\n",
        "    if posterior_samples.shape[1] > 4:\n",
        "        sns.kdeplot(x=posterior_samples[:,4], color=\"r\", alpha = 0.5, label=\"$\\sigma_{1, 2}$\")\n",
        "        plt.scatter(x=sample_scale[1, 0], y=0, color=\"r\", marker=\"x\")\n",
        "    plt.legend()\n",
        "    plt.show()"
      ],
      "execution_count": null,
      "outputs": []
    },
    {
      "cell_type": "code",
      "metadata": {
        "colab": {
          "base_uri": "https://localhost:8080/"
        },
        "id": "ziBBCmSRcumm",
        "outputId": "cdf2db0f-42b5-4493-e5e7-d67c511182cb"
      },
      "source": [
        "plt.figure(figsize=(18,6))\n",
        "for name, grad_norms in train_result[\"gradient_norms\"].items():\n",
        "    plt.plot(grad_norms, label=name, linewidth=0.5)\n",
        "plt.title(\"Norm of parameter gradients\");\n",
        "plt.xlabel('Iteration')\n",
        "plt.ylabel('$||\\\\nabla \\\\theta||$')\n",
        "plt.yscale('log')\n",
        "plt.legend()\n",
        "plt.show()"
      ],
      "execution_count": null,
      "outputs": [
        {
          "output_type": "display_data",
          "data": {
            "image/png": "[encoded data removed]",
            "text/plain": [
              "<Figure size 1296x432 with 1 Axes>"
            ]
          },
          "metadata": {
            "needs_background": "light"
          }
        }
      ]
    },
    {
      "cell_type": "markdown",
      "metadata": {
        "id": "m-cXc1WaubQU"
      },
      "source": [
        "# Sample from posterior predictive"
      ]
    },
    {
      "cell_type": "markdown",
      "metadata": {
        "id": "7xABLlJCD6V8"
      },
      "source": [
        "\\begin{equation}\n",
        "    p(y^*|y) = \\int p(y^*|z) p(z | y) dz \\approx \\int p(y^*|z) q(z) dz\n",
        "\\end{equation}"
      ]
    },
    {
      "cell_type": "code",
      "metadata": {
        "id": "7_7rQuybjiKy"
      },
      "source": [
        "n_samples = 4096\n",
        "posterior_predictive = Predictive(model, guide=guide, num_samples=n_samples)\n",
        "predictive_samples = posterior_predictive.get_samples()\n",
        "prediction = predictive_samples[\"x\"]#.reshape(torch.Size([N*n_samples, 2]))"
      ],
      "execution_count": null,
      "outputs": []
    },
    {
      "cell_type": "code",
      "metadata": {
        "colab": {
          "base_uri": "https://localhost:8080/"
        },
        "id": "IEJDnvsPU1G8",
        "outputId": "8179ed85-9380-46ea-b961-90882f186d7e"
      },
      "source": [
        "# plt.scatter(data[:,0],data[:,1],c=\"r\",label =\"truth\",alpha = 0.1)\n",
        "# plt.scatter(prediction[:,0],prediction[:,1],c=\"b\",label =\"prediction\",alpha = 0.1)\n",
        "sns.kdeplot(x=data[:,0], y=data[:,1], color=\"r\" ,label =\"truth\", alpha = 0.5)\n",
        "sns.kdeplot(x=prediction[:,0], y=prediction[:,1], color=\"b\" ,label=\"prediction\", alpha = 0.5)\n",
        "plt.title(\"Likelihood\")\n",
        "plt.xlabel(\"$x_1$\")\n",
        "plt.ylabel(\"$x_2$\")\n",
        "plt.legend(loc=\"lower left\")\n",
        "plt.show()"
      ],
      "execution_count": null,
      "outputs": [
        {
          "output_type": "display_data",
          "data": {
            "image/png": "[encoded data removed]",
            "text/plain": [
              "<Figure size 432x288 with 1 Axes>"
            ]
          },
          "metadata": {
            "needs_background": "light"
          }
        }
      ]
    },
    {
      "cell_type": "markdown",
      "metadata": {
        "id": "ilid9XAOZwGA"
      },
      "source": [
        "# Yes, but does it work?"
      ]
    },
    {
      "cell_type": "markdown",
      "metadata": {
        "id": "Tzlw3HyV3oQf"
      },
      "source": [
        "### psis.py"
      ]
    },
    {
      "cell_type": "code",
      "metadata": {
        "id": "d3o1jj6bveae"
      },
      "source": [
        "# Credit to https://github.com/avehtari/PSIS/blob/master/py/psis.py\n",
        "\n",
        "\"\"\"Pareto smoothed importance sampling (PSIS)\n",
        "This module implements Pareto smoothed importance sampling (PSIS) and PSIS\n",
        "leave-one-out (LOO) cross-validation for Python (Numpy).\n",
        "Included functions\n",
        "------------------\n",
        "psisloo\n",
        "    Pareto smoothed importance sampling leave-one-out log predictive densities.\n",
        "psislw\n",
        "    Pareto smoothed importance sampling.\n",
        "gpdfitnew\n",
        "    Estimate the paramaters for the Generalized Pareto Distribution (GPD).\n",
        "gpinv\n",
        "    Inverse Generalised Pareto distribution function.\n",
        "sumlogs\n",
        "    Sum of vector where numbers are represented by their logarithms.\n",
        "References\n",
        "----------\n",
        "Aki Vehtari, Andrew Gelman and Jonah Gabry (2017). Practical\n",
        "Bayesian model evaluation using leave-one-out cross-validation\n",
        "and WAIC. Statistics and Computing, 27(5):1413–1432.\n",
        "doi:10.1007/s11222-016-9696-4. https://arxiv.org/abs/1507.04544\n",
        "Aki Vehtari, Andrew Gelman and Jonah Gabry (2017). Pareto\n",
        "smoothed importance sampling. https://arxiv.org/abs/arXiv:1507.02646v5\n",
        "\"\"\"\n",
        "\n",
        "from __future__ import division # For Python 2 compatibility\n",
        "import numpy as np\n",
        "\n",
        "# 3-Clause BSD License\n",
        "\"\"\"\n",
        "Copyright 2017 Aki Vehtari, Tuomas Sivula\n",
        "Redistribution and use in source and binary forms, with or without modification,\n",
        "are permitted provided that the following conditions are met:\n",
        "1. Redistributions of source code must retain the above copyright notice, this\n",
        "list of conditions and the following disclaimer.\n",
        "2. Redistributions in binary form must reproduce the above copyright notice,\n",
        "this list of conditions and the following disclaimer in the documentation and/or\n",
        "other materials provided with the distribution.\n",
        "3. Neither the name of the copyright holder nor the names of its contributors\n",
        "may be used to endorse or promote products derived from this software without\n",
        "specific prior written permission.\n",
        "THIS SOFTWARE IS PROVIDED BY THE COPYRIGHT HOLDERS AND CONTRIBUTORS \"AS IS\" AND\n",
        "ANY EXPRESS OR IMPLIED WARRANTIES, INCLUDING, BUT NOT LIMITED TO, THE IMPLIED\n",
        "WARRANTIES OF MERCHANTABILITY AND FITNESS FOR A PARTICULAR PURPOSE ARE\n",
        "DISCLAIMED. IN NO EVENT SHALL THE COPYRIGHT HOLDER OR CONTRIBUTORS BE LIABLE FOR\n",
        "ANY DIRECT, INDIRECT, INCIDENTAL, SPECIAL, EXEMPLARY, OR CONSEQUENTIAL DAMAGES\n",
        "(INCLUDING, BUT NOT LIMITED TO, PROCUREMENT OF SUBSTITUTE GOODS OR SERVICES;\n",
        "LOSS OF USE, DATA, OR PROFITS; OR BUSINESS INTERRUPTION) HOWEVER CAUSED AND ON\n",
        "ANY THEORY OF LIABILITY, WHETHER IN CONTRACT, STRICT LIABILITY, OR TORT\n",
        "(INCLUDING NEGLIGENCE OR OTHERWISE) ARISING IN ANY WAY OUT OF THE USE OF THIS\n",
        "SOFTWARE, EVEN IF ADVISED OF THE POSSIBILITY OF SUCH DAMAGE. \"\"\"\n",
        "\n",
        "\n",
        "def psisloo(log_lik, **kwargs):\n",
        "    r\"\"\"PSIS leave-one-out log predictive densities.\n",
        "    Computes the log predictive densities given posterior samples of the log\n",
        "    likelihood terms :math:`p(y_i|\\theta^s)` in input parameter `log_lik`.\n",
        "    Returns a sum of the leave-one-out log predictive densities `loo`,\n",
        "    individual leave-one-out log predictive density terms `loos` and an estimate\n",
        "    of Pareto tail indeces `ks`. The estimates are unreliable if tail index\n",
        "    ``k > 0.7`` (see more in the references listed in the module docstring).\n",
        "    Additional keyword arguments are passed to the :meth:`psislw()` function\n",
        "    (see the corresponding documentation).\n",
        "    Parameters\n",
        "    ----------\n",
        "    log_lik : ndarray\n",
        "        Array of size n x m containing n posterior samples of the log likelihood\n",
        "        terms :math:`p(y_i|\\theta^s)`.\n",
        "    Returns\n",
        "    -------\n",
        "    loo : scalar\n",
        "        sum of the leave-one-out log predictive densities\n",
        "    loos : ndarray\n",
        "        individual leave-one-out log predictive density terms\n",
        "    ks : ndarray\n",
        "        estimated Pareto tail indeces\n",
        "    \"\"\"\n",
        "    # ensure overwrite flag in passed arguments\n",
        "    kwargs['overwrite_lw'] = True\n",
        "    # log raw weights from log_lik\n",
        "    lw = -log_lik\n",
        "    # compute Pareto smoothed log weights given raw log weights\n",
        "    lw, ks = psislw(lw, **kwargs)\n",
        "    # compute\n",
        "    lw += log_lik\n",
        "    loos = sumlogs(lw, axis=0)\n",
        "    loo = loos.sum()\n",
        "    return loo, loos, ks\n",
        "\n",
        "\n",
        "def psislw(lw, Reff=1.0, overwrite_lw=False):\n",
        "    \"\"\"Pareto smoothed importance sampling (PSIS).\n",
        "    Parameters\n",
        "    ----------\n",
        "    lw : ndarray\n",
        "        Array of size n x m containing m sets of n log weights. It is also\n",
        "        possible to provide one dimensional array of length n.\n",
        "    Reff : scalar, optional\n",
        "        relative MCMC efficiency ``N_eff / N``\n",
        "    overwrite_lw : bool, optional\n",
        "        If True, the input array `lw` is smoothed in-place, assuming the array\n",
        "        is F-contiguous. By default, a new array is allocated.\n",
        "    Returns\n",
        "    -------\n",
        "    lw_out : ndarray\n",
        "        smoothed log weights\n",
        "    kss : ndarray\n",
        "        Pareto tail indices\n",
        "    \"\"\"\n",
        "    if lw.ndim == 2:\n",
        "        n, m = lw.shape\n",
        "    elif lw.ndim == 1:\n",
        "        n = len(lw)\n",
        "        m = 1\n",
        "    else:\n",
        "        raise ValueError(\"Argument `lw` must be 1 or 2 dimensional.\")\n",
        "    if n <= 1:\n",
        "        raise ValueError(\"More than one log-weight needed.\")\n",
        "\n",
        "    if overwrite_lw and lw.flags.f_contiguous:\n",
        "        # in-place operation\n",
        "        lw_out = lw\n",
        "    else:\n",
        "        # allocate new array for output\n",
        "        lw_out = np.copy(lw, order='F')\n",
        "\n",
        "    # allocate output array for kss\n",
        "    kss = np.empty(m)\n",
        "\n",
        "    # precalculate constants\n",
        "    cutoff_ind = - int(np.ceil(min(0.2 * n, 3 * np.sqrt(n / Reff)))) - 1\n",
        "    cutoffmin = np.log(np.finfo(float).tiny)\n",
        "    logn = np.log(n)\n",
        "    k_min = 1/3\n",
        "\n",
        "    # loop over sets of log weights\n",
        "    for i, x in enumerate(lw_out.T if lw_out.ndim == 2 else lw_out[None, :]):\n",
        "        # improve numerical accuracy\n",
        "        x -= np.max(x)\n",
        "        # sort the array\n",
        "        x_sort_ind = np.argsort(x)\n",
        "        # divide log weights into body and right tail\n",
        "        xcutoff = max(\n",
        "            x[x_sort_ind[cutoff_ind]],\n",
        "            cutoffmin\n",
        "        )\n",
        "        expxcutoff = np.exp(xcutoff)\n",
        "        tailinds, = np.where(x > xcutoff)\n",
        "        x2 = x[tailinds]\n",
        "        n2 = len(x2)\n",
        "        if n2 <= 4:\n",
        "            # not enough tail samples for gpdfitnew\n",
        "            k = np.inf\n",
        "        else:\n",
        "            # order of tail samples\n",
        "            x2si = np.argsort(x2)\n",
        "            # fit generalized Pareto distribution to the right tail samples\n",
        "            np.exp(x2, out=x2)\n",
        "            x2 -= expxcutoff\n",
        "            k, sigma = gpdfitnew(x2, sort=x2si)\n",
        "        if k >= k_min and not np.isinf(k):\n",
        "            # no smoothing if short tail or GPD fit failed\n",
        "            # compute ordered statistic for the fit\n",
        "            sti = np.arange(0.5, n2)\n",
        "            sti /= n2\n",
        "            qq = gpinv(sti, k, sigma)\n",
        "            qq += expxcutoff\n",
        "            np.log(qq, out=qq)\n",
        "            # place the smoothed tail into the output array\n",
        "            x[tailinds[x2si]] = qq\n",
        "            # truncate smoothed values to the largest raw weight 0\n",
        "            x[x > 0] = 0\n",
        "        # renormalize weights\n",
        "        x -= sumlogs(x)\n",
        "        # store tail index k\n",
        "        kss[i] = k\n",
        "\n",
        "    # If the provided input array is one dimensional, return kss as scalar.\n",
        "    if lw_out.ndim == 1:\n",
        "        kss = kss[0]\n",
        "\n",
        "    return lw_out, kss\n",
        "\n",
        "\n",
        "def gpdfitnew(x, sort=True, sort_in_place=False, return_quadrature=False):\n",
        "    \"\"\"Estimate the paramaters for the Generalized Pareto Distribution (GPD)\n",
        "    Returns empirical Bayes estimate for the parameters of the two-parameter\n",
        "    generalized Parato distribution given the data.\n",
        "    Parameters\n",
        "    ----------\n",
        "    x : ndarray\n",
        "        One dimensional data array\n",
        "    sort : bool or ndarray, optional\n",
        "        If known in advance, one can provide an array of indices that would\n",
        "        sort the input array `x`. If the input array is already sorted, provide\n",
        "        False. If True (default behaviour), the array is sorted internally.\n",
        "    sort_in_place : bool, optional\n",
        "        If `sort` is True and `sort_in_place` is True, the array is sorted\n",
        "        in-place (False by default).\n",
        "    return_quadrature : bool, optional\n",
        "        If True, quadrature points and weight `ks` and `w` of the marginal posterior distribution of k are also calculated and returned. False by\n",
        "        default.\n",
        "    Returns\n",
        "    -------\n",
        "    k, sigma : float\n",
        "        estimated parameter values\n",
        "    ks, w : ndarray\n",
        "        Quadrature points and weights of the marginal posterior distribution\n",
        "        of `k`. Returned only if `return_quadrature` is True.\n",
        "    Notes\n",
        "    -----\n",
        "    This function returns a negative of Zhang and Stephens's k, because it is\n",
        "    more common parameterisation.\n",
        "    \"\"\"\n",
        "    if x.ndim != 1 or len(x) <= 1:\n",
        "        raise ValueError(\"Invalid input array.\")\n",
        "\n",
        "    # check if x should be sorted\n",
        "    if sort is True:\n",
        "        if sort_in_place:\n",
        "            x.sort()\n",
        "            xsorted = True\n",
        "        else:\n",
        "            sort = np.argsort(x)\n",
        "            xsorted = False\n",
        "    elif sort is False:\n",
        "        xsorted = True\n",
        "    else:\n",
        "        xsorted = False\n",
        "\n",
        "    n = len(x)\n",
        "    PRIOR = 3\n",
        "    m = 30 + int(np.sqrt(n))\n",
        "\n",
        "    bs = np.arange(1, m + 1, dtype=float)\n",
        "    bs -= 0.5\n",
        "    np.divide(m, bs, out=bs)\n",
        "    np.sqrt(bs, out=bs)\n",
        "    np.subtract(1, bs, out=bs)\n",
        "    if xsorted:\n",
        "        bs /= PRIOR * x[int(n/4 + 0.5) - 1]\n",
        "        bs += 1 / x[-1]\n",
        "    else:\n",
        "        bs /= PRIOR * x[sort[int(n/4 + 0.5) - 1]]\n",
        "        bs += 1 / x[sort[-1]]\n",
        "\n",
        "    ks = np.negative(bs)\n",
        "    temp = ks[:,None] * x\n",
        "    np.log1p(temp, out=temp)\n",
        "    np.mean(temp, axis=1, out=ks)\n",
        "\n",
        "    L = bs / ks\n",
        "    np.negative(L, out=L)\n",
        "    np.log(L, out=L)\n",
        "    L -= ks\n",
        "    L -= 1\n",
        "    L *= n\n",
        "\n",
        "    temp = L - L[:,None]\n",
        "    np.exp(temp, out=temp)\n",
        "    w = np.sum(temp, axis=1)\n",
        "    np.divide(1, w, out=w)\n",
        "\n",
        "    # remove negligible weights\n",
        "    dii = w >= 10 * np.finfo(float).eps\n",
        "    if not np.all(dii):\n",
        "        w = w[dii]\n",
        "        bs = bs[dii]\n",
        "    # normalise w\n",
        "    w /= w.sum()\n",
        "\n",
        "    # posterior mean for b\n",
        "    b = np.sum(bs * w)\n",
        "    # Estimate for k, note that we return a negative of Zhang and\n",
        "    # Stephens's k, because it is more common parameterisation.\n",
        "    temp = (-b) * x\n",
        "    np.log1p(temp, out=temp)\n",
        "    k = np.mean(temp)\n",
        "    if return_quadrature:\n",
        "        np.negative(x, out=temp)\n",
        "        temp = bs[:, None] * temp\n",
        "        np.log1p(temp, out=temp)\n",
        "        ks = np.mean(temp, axis=1)\n",
        "    # estimate for sigma\n",
        "    sigma = -k / b * n / (n - 0)\n",
        "    # weakly informative prior for k\n",
        "    a = 10\n",
        "    k = k * n / (n+a) + a * 0.5 / (n+a)\n",
        "    if return_quadrature:\n",
        "        ks *= n / (n+a)\n",
        "        ks += a * 0.5 / (n+a)\n",
        "\n",
        "    if return_quadrature:\n",
        "        return k, sigma, ks, w\n",
        "    else:\n",
        "        return k, sigma\n",
        "\n",
        "\n",
        "def gpinv(p, k, sigma):\n",
        "    \"\"\"Inverse Generalised Pareto distribution function.\"\"\"\n",
        "    x = np.empty(p.shape)\n",
        "    x.fill(np.nan)\n",
        "    if sigma <= 0:\n",
        "        return x\n",
        "    ok = (p > 0) & (p < 1)\n",
        "    if np.all(ok):\n",
        "        if np.abs(k) < np.finfo(float).eps:\n",
        "            np.negative(p, out=x)\n",
        "            np.log1p(x, out=x)\n",
        "            np.negative(x, out=x)\n",
        "        else:\n",
        "            np.negative(p, out=x)\n",
        "            np.log1p(x, out=x)\n",
        "            x *= -k\n",
        "            np.expm1(x, out=x)\n",
        "            x /= k\n",
        "        x *= sigma\n",
        "    else:\n",
        "        if np.abs(k) < np.finfo(float).eps:\n",
        "            # x[ok] = - np.log1p(-p[ok])\n",
        "            temp = p[ok]\n",
        "            np.negative(temp, out=temp)\n",
        "            np.log1p(temp, out=temp)\n",
        "            np.negative(temp, out=temp)\n",
        "            x[ok] = temp\n",
        "        else:\n",
        "            # x[ok] = np.expm1(-k * np.log1p(-p[ok])) / k\n",
        "            temp = p[ok]\n",
        "            np.negative(temp, out=temp)\n",
        "            np.log1p(temp, out=temp)\n",
        "            temp *= -k\n",
        "            np.expm1(temp, out=temp)\n",
        "            temp /= k\n",
        "            x[ok] = temp\n",
        "        x *= sigma\n",
        "        x[p == 0] = 0\n",
        "        if k >= 0:\n",
        "            x[p == 1] = np.inf\n",
        "        else:\n",
        "            x[p == 1] = -sigma / k\n",
        "    return x\n",
        "\n",
        "\n",
        "def sumlogs(x, axis=None, out=None):\n",
        "    \"\"\"Sum of vector where numbers are represented by their logarithms.\n",
        "    Calculates ``np.log(np.sum(np.exp(x), axis=axis))`` in such a fashion that\n",
        "    it works even when elements have large magnitude.\n",
        "    \"\"\"\n",
        "    maxx = x.max(axis=axis, keepdims=True)\n",
        "    xnorm = x - maxx\n",
        "    np.exp(xnorm, out=xnorm)\n",
        "    out = np.sum(xnorm, axis=axis, out=out)\n",
        "    if isinstance(out, np.ndarray):\n",
        "        np.log(out, out=out)\n",
        "    else:\n",
        "        out = np.log(out)\n",
        "    out += np.squeeze(maxx)\n",
        "    return out"
      ],
      "execution_count": null,
      "outputs": []
    },
    {
      "cell_type": "markdown",
      "metadata": {
        "id": "pV0pT7OC3tdR"
      },
      "source": [
        "### Calculating k hat"
      ]
    },
    {
      "cell_type": "code",
      "metadata": {
        "id": "Xralq8szyd7x"
      },
      "source": [
        "posterior_samples = torch.Tensor(posterior_samples)\n",
        "posterior_scale = pyro.param(\"scale\").data.numpy()"
      ],
      "execution_count": null,
      "outputs": []
    },
    {
      "cell_type": "code",
      "metadata": {
        "id": "Z6kaUaqz9H9f"
      },
      "source": [
        "# posterior_samples = torch.Tensor(posterior_samples[:, 0:2])\n",
        "# posterior_scale = torch.Tensor(posterior_samples[:, 2:5])\n",
        "\n",
        "# sigma_cafe = torch.Tensor(posterior_samples[:, 2:4])\n",
        "# rho = torch.Tensor(posterior_samples[:, 4])\n",
        "# scale = torch.outer(sigma_cafe, sigma_cafe) * rho\n"
      ],
      "execution_count": null,
      "outputs": []
    },
    {
      "cell_type": "code",
      "metadata": {
        "id": "6K4QsTo2zyKb"
      },
      "source": [
        "log_p_likelihood = []\n",
        "for posterior_sample in posterior_samples:\n",
        "    likelihood_dist = dist.MultivariateNormal(posterior_sample, scale)\n",
        "    log_p_likelihood.append(likelihood_dist.log_prob(data).sum())\n",
        "log_p_likelihood = torch.Tensor(log_p_likelihood)\n",
        "\n",
        "prior_dist = dist.MultivariateNormal(torch.zeros(2),torch.diag(torch.ones(2)))\n",
        "log_p_theta = prior_dist.log_prob(torch.Tensor(posterior_samples))"
      ],
      "execution_count": null,
      "outputs": []
    },
    {
      "cell_type": "code",
      "metadata": {
        "id": "bq1mzkgzxOLU"
      },
      "source": [
        "log_p = log_p_likelihood + log_p_theta\n",
        "log_q = posterior.log_prob(torch.Tensor(posterior_samples)).data # This is tricky with normalizing flows\n",
        "log_w = log_p - log_q"
      ],
      "execution_count": null,
      "outputs": []
    },
    {
      "cell_type": "code",
      "metadata": {
        "id": "71el3RBRxIDf",
        "colab": {
          "base_uri": "https://localhost:8080/"
        },
        "outputId": "d7a5ebcf-9095-4b3e-a78a-1d69bab287d2"
      },
      "source": [
        "lw_out, kss = psislw(log_w.numpy())\n",
        "\n",
        "if kss < 0.7:\n",
        "    print(f\"k hat = {kss:.3f} < 0.7: VI approximation is reliable.\")\n",
        "else:\n",
        "    print(f\"k hat = {kss:.3f} > 0.7: VI approximation is NOT reliable.\")"
      ],
      "execution_count": null,
      "outputs": [
        {
          "output_type": "stream",
          "name": "stdout",
          "text": [
            "k hat = 0.619 < 0.7: VI approximation is reliable.\n"
          ]
        }
      ]
    },
    {
      "cell_type": "markdown",
      "metadata": {
        "id": "F60Jm3UzwLsP"
      },
      "source": [
        "# Performance as a function of gradient samples and number of flows"
      ]
    },
    {
      "cell_type": "markdown",
      "metadata": {
        "id": "szLFh7fYwzPa"
      },
      "source": [
        "If you want to optimize using smarter techniques than just grid search, read [this](https://neptune.ai/blog/hyperparameter-tuning-in-python-a-complete-guide-2020) and [this](https://pyro.ai/examples/bo.html)."
      ]
    },
    {
      "cell_type": "code",
      "metadata": {
        "id": "QhCvI4LfwLU5",
        "colab": {
          "base_uri": "https://localhost:8080/",
          "height": 305,
          "referenced_widgets": [
            "bc5a367f89d24d859a660f7e90fce930",
            "c8a55f968ab24d5f9dcaed792409a462",
            "20fca17397664054908241a66e7e4e92",
            "e5aae6c23c5f44f8ba86a42581b6b28c",
            "1f088eef87524323b7734decbbde9924",
            "0e92b511330a4360af11802fe9801fb9",
            "c1a54a6a03954318952856e7cbac261f",
            "19616210d23e4603bc75352d8d7baf48",
            "bf336078dda74bfc808a43da2cecc6ef",
            "647d83ebff6043379e7bc8e33709d296",
            "a0fe73c40f2a4662aec880d2116615c7",
            "031a7fbc84b9472184219324c05aedf5",
            "03e8ab67e4854a16b6c46b5e2b8628b0",
            "ab0999d0d6be4da0910642dfce6d6ea2",
            "e096740994864473a5b27225933f20db",
            "b7d3861ff92d4bc49c40ebfb5f8c6eef",
            "9408091c36c34eeda1db480e8f0d7bcd",
            "c7b74f36b10c48a380d5811f12377c9f",
            "59fed1b431514bbf9fe78d8dd07d6b90",
            "2dc5014f245c4491b6aabcfc5b987592",
            "a43e66e25bf444dc810a6ac1e426a8b2",
            "056f52c195ee4981ba567b70ecf02d47",
            "008ed0fbbdd146d2902b2bf7320b2976",
            "7e87d3e4621d4b4fba4423c783de1ede",
            "33931de27603442786f557340f44b240",
            "3c2bc5beb4254af6960bed19ee79c554",
            "8b16f3dc7b2d43d2bf60150cbf8ad6c3",
            "2c053588e33f419dbed48111da47bdb2",
            "b23a714995444154960d9d39c205fd7f",
            "bd4cd10c69f24f6dba8f477a5e451c2b",
            "5953b199b56f4b7da0493f0d86266195",
            "a655defd19d5402d9f02d78f6ff5dde7",
            "84bf5d2984c44af1bd8c0941d3e05bc2",
            "f7a7dfba6aa64a279e7d2bf6ad736d39",
            "059f59af695b46ac8d36926300b956de",
            "2464ae08068249f6827c08030837e143",
            "6f56a3dcaf6947a88076fd31106f3608",
            "1cbfd0a1e35646ab89cb19ee43c46c78",
            "0a1181d48026471b9e245284b1cd75c4",
            "38a6806afa164103b2ad932b769ca1de",
            "30a320913eba492ca51bb95144d08338",
            "52e0326ec999491880e526d20e27549c",
            "3b1a740ccc02436fb25952fa28f65bb2",
            "7616ddc9f8cc471396393526e3b6d18d",
            "6286ebed03284e45be2df74211eb4fd5",
            "ae8feb02e6964981b910003b0c2b2ca5",
            "bc6e8ecbb40e4b8f98b6bbd663351c56",
            "31ae042e284049dc806b59b2a9d2d9c6",
            "95fd9c9a6f9448f9bc6b833256312b9c",
            "b34f642458cf43f4bd103030fbb24035",
            "39d7eac749354d0cb3aefc0baf3f6ab4",
            "c998521e978642699a499dc35c4dde52",
            "005c9017acd04a8981d4f10d27229c36",
            "458aa21e1bcb41beab7d9e2be345207a",
            "760915ea63ea422f8bb29e417d007309",
            "2b0fc44b863949b7ab8b0e97dc51abc3",
            "a71ad9df005b4211b548b9e83defc73b",
            "8a3221321de944febd3eec6023992f7e",
            "5f7b7421c8ba45dba119afa3eb4558b5",
            "98f595f034934cd1a8102d6b28fc71a7",
            "8b37e1f4754545f784a9e60877ccc832",
            "a76b86ac1ca142e4bb231af14be56d71",
            "458ccd1b1a224e5daa8e274623b7cb22",
            "70251357b705448b93a258af01266e5e",
            "c73bd2b787ef4f6fb37a355d29767850",
            "09229edeb2594977aef6eca25dae824f",
            "60ede4c5a5b444149e30b66ccb2653e5",
            "416757af31694c6ebbf8f2000dc4818d",
            "4dba8987c72f4897a3b07cdeb4741457",
            "89b6f490893e4175b6f9aade906fd1c4",
            "87586d06eee44d1b9da32b97ee593022",
            "9d1e301a34e8441d95a6bf9864bd1dd4",
            "9571083537434c7889de2e2948484982",
            "dd191a65e90340399afb1098534b0e6e",
            "20e782f4c32d4b928b5c0ce588463113",
            "e13d28e3870f474d81ff06dfdeab37eb",
            "071186208954457a83d3aae3cfa9237c",
            "dc78e061de874f86a28084a05efe6794",
            "397c6399c21d4ed3bc1362e106ecb453",
            "f300398ad3aa4b58957c85f9b6d1a616",
            "491baea8cba940c28b7f21cf3b96ecfb",
            "2ba56e2003ed498c92d1aa78ea6c2578",
            "0587b3bcfa54441f913067c9c18b2972",
            "209259a0fe9e410b9d8def35aecf500e",
            "37026497754b438483badc4415d70ae8",
            "b5bdac40b5c947b585179c90b4d5de91",
            "a5126db24b92460eab10c2478c596f63",
            "4a204b57154a4611bc6b416edd4730e9",
            "d5df6d096abc41b29c026ed45a48d0f9",
            "c1126684950b4e829a4652eec4450617",
            "1947e53543ea46b58edda09cd9d285ac",
            "464b366d56e44efea5dcf2f08950e39f",
            "7b29b8b4aba947b58c457ca007cca4c0",
            "6a0ffedce6414cf197c64f1b1fa931c6",
            "d6ab233702a14cb885c878b4f1f4d2e9",
            "a1d970768cdf4c0390dfb02516c1cc23",
            "8e0db2ef902d4670b4e747b13a19948e",
            "8222ee859e0a40b8a8a0f568baf50a38",
            "c9519335da414aa4bc111c3aff2cc4d0"
          ]
        },
        "outputId": "65881ac4-22b4-463d-f54d-9f5ae8932055"
      },
      "source": [
        "num_flows = [4, 8, 16]\n",
        "gradient_samples = [1, 4, 8]\n",
        "\n",
        "# results = {\"elbo\": [], \"diff_mean\": [], \"diff_var\": [], \"k_hat\": []}\n",
        "results = {\"elbo\": []}\n",
        "for n_f in num_flows:\n",
        "    for g_s in gradient_samples:\n",
        "        transform_init = partial(iterated, n_f, planar)\n",
        "        guide = AutoNormalizingFlow(model, transform_init)\n",
        "\n",
        "        train_result = train(model, guide, 5000, g_s, adam_params={\"lr\": 5e-3}, plot=False)\n",
        "\n",
        "        elbo = -train_result[\"losses\"][-1]\n",
        "        results[\"elbo\"].append(elbo)\n",
        "\n",
        "        # results[\"diff_mean\"].append()\n",
        "        # results[\"diff_var\"].append()\n",
        "        # results[\"k_hat\"].append()"
      ],
      "execution_count": null,
      "outputs": [
        {
          "output_type": "display_data",
          "data": {
            "application/vnd.jupyter.widget-view+json": {
              "model_id": "bc5a367f89d24d859a660f7e90fce930",
              "version_minor": 0,
              "version_major": 2
            },
            "text/plain": [
              "  0%|          | 0/5000 [00:00<?, ?it/s]"
            ]
          },
          "metadata": {}
        },
        {
          "output_type": "display_data",
          "data": {
            "application/vnd.jupyter.widget-view+json": {
              "model_id": "031a7fbc84b9472184219324c05aedf5",
              "version_minor": 0,
              "version_major": 2
            },
            "text/plain": [
              "  0%|          | 0/5000 [00:00<?, ?it/s]"
            ]
          },
          "metadata": {}
        },
        {
          "output_type": "display_data",
          "data": {
            "application/vnd.jupyter.widget-view+json": {
              "model_id": "008ed0fbbdd146d2902b2bf7320b2976",
              "version_minor": 0,
              "version_major": 2
            },
            "text/plain": [
              "  0%|          | 0/5000 [00:00<?, ?it/s]"
            ]
          },
          "metadata": {}
        },
        {
          "output_type": "display_data",
          "data": {
            "application/vnd.jupyter.widget-view+json": {
              "model_id": "f7a7dfba6aa64a279e7d2bf6ad736d39",
              "version_minor": 0,
              "version_major": 2
            },
            "text/plain": [
              "  0%|          | 0/5000 [00:00<?, ?it/s]"
            ]
          },
          "metadata": {}
        },
        {
          "output_type": "display_data",
          "data": {
            "application/vnd.jupyter.widget-view+json": {
              "model_id": "6286ebed03284e45be2df74211eb4fd5",
              "version_minor": 0,
              "version_major": 2
            },
            "text/plain": [
              "  0%|          | 0/5000 [00:00<?, ?it/s]"
            ]
          },
          "metadata": {}
        },
        {
          "output_type": "display_data",
          "data": {
            "application/vnd.jupyter.widget-view+json": {
              "model_id": "2b0fc44b863949b7ab8b0e97dc51abc3",
              "version_minor": 0,
              "version_major": 2
            },
            "text/plain": [
              "  0%|          | 0/5000 [00:00<?, ?it/s]"
            ]
          },
          "metadata": {}
        },
        {
          "output_type": "display_data",
          "data": {
            "application/vnd.jupyter.widget-view+json": {
              "model_id": "60ede4c5a5b444149e30b66ccb2653e5",
              "version_minor": 0,
              "version_major": 2
            },
            "text/plain": [
              "  0%|          | 0/5000 [00:00<?, ?it/s]"
            ]
          },
          "metadata": {}
        },
        {
          "output_type": "display_data",
          "data": {
            "application/vnd.jupyter.widget-view+json": {
              "model_id": "dc78e061de874f86a28084a05efe6794",
              "version_minor": 0,
              "version_major": 2
            },
            "text/plain": [
              "  0%|          | 0/5000 [00:00<?, ?it/s]"
            ]
          },
          "metadata": {}
        },
        {
          "output_type": "display_data",
          "data": {
            "application/vnd.jupyter.widget-view+json": {
              "model_id": "d5df6d096abc41b29c026ed45a48d0f9",
              "version_minor": 0,
              "version_major": 2
            },
            "text/plain": [
              "  0%|          | 0/5000 [00:00<?, ?it/s]"
            ]
          },
          "metadata": {}
        }
      ]
    },
    {
      "cell_type": "code",
      "metadata": {
        "colab": {
          "base_uri": "https://localhost:8080/"
        },
        "id": "FiSK9IZd0wi-",
        "outputId": "73aa3b11-c6ee-49a9-c0db-e1add2319cce"
      },
      "source": [
        "results"
      ],
      "execution_count": null,
      "outputs": [
        {
          "output_type": "execute_result",
          "data": {
            "text/plain": [
              "{'elbo': [-17886.721237182617,\n",
              "  -18000.507843613625,\n",
              "  -17948.60223340988,\n",
              "  -17902.622589111328,\n",
              "  -17880.530441880226,\n",
              "  -17874.11350044608,\n",
              "  -17869.44455718994,\n",
              "  -19573.12942624092,\n",
              "  -17874.11769157648]}"
            ]
          },
          "metadata": {},
          "execution_count": 151
        }
      ]
    },
    {
      "cell_type": "markdown",
      "metadata": {
        "id": "DMTdmCiX2r0D"
      },
      "source": [
        "# Creating a NormalizingFlow class and replicating paper figures"
      ]
    },
    {
      "cell_type": "markdown",
      "metadata": {
        "id": "lklzH_YufAs2"
      },
      "source": [
        "These two saved me big-time:\n",
        "* **https://forum.pyro.ai/t/trouble-with-custom-torch-distribution-and-batch-shape/2336**\n",
        "* https://pyro.ai/examples/tensor_shapes.html#It-is-always-safe-to-assume-dependence"
      ]
    },
    {
      "cell_type": "code",
      "metadata": {
        "id": "NNipEdghotgr"
      },
      "source": [
        "class NormalizingFlow(nn.Module):\n",
        "    def __init__(self,\n",
        "                 dim,\n",
        "                 nfs,\n",
        "                 base_dist=lambda dim:dist.Normal(torch.zeros(dim), torch.ones(dim)),):\n",
        "        super(NormalizingFlow, self).__init__()\n",
        "        self.uuid = np.random.randint(low=0,high=10000,size=1)[0]\n",
        "        self.dim = dim\n",
        "        self.base_dist = base_dist(dim)\n",
        "        self.n_flows = len(nfs)\n",
        "        self.nfs = nfs\n",
        "        self.nf_dist = dist.TransformedDistribution(self.base_dist, self.nfs)\n",
        "        self._register()\n",
        "        \n",
        "    def _register(self):\n",
        "        for f in range(self.n_flows):\n",
        "            nf_module = pyro.module(\"%d_nf_%d\" %(self.uuid,f), self.nfs[f])\n",
        "\n",
        "    def model(self, x, p_z):\n",
        "        # z ~ p(x,z) = p(z)\n",
        "        with pyro.plate(\"data\", x.shape[0]):\n",
        "            z = pyro.sample(\"z\", p_z)\n",
        "            pyro.sample(\"x\", p_z, obs=x)\n",
        "        \n",
        "    def guide(self, x, p_z):\n",
        "        # z ~ q(z|x)\n",
        "        self._register()\n",
        "        with pyro.plate(\"data\", x.shape[0]):\n",
        "            pyro.sample(\"z\", self.nf_dist)\n",
        "    \n",
        "    def log_prob(self,z):\n",
        "        # log q(z|x)\n",
        "        return self.nf_dist.log_prob(z)\n",
        "\n",
        "    def sample(self,n):\n",
        "        return self.nf_dist.sample(torch.Size([n]))\n"
      ],
      "execution_count": 50,
      "outputs": []
    },
    {
      "cell_type": "code",
      "metadata": {
        "id": "sVPWLH2Unyaa",
        "colab": {
          "base_uri": "https://localhost:8080/",
          "height": 269
        },
        "outputId": "59cdbbe2-ebc2-44b2-9254-e3546acdcbea"
      },
      "source": [
        "p = EnergyDistribution(\"U1\")\n",
        "dim = 2\n",
        "\n",
        "plot_pdf(p)\n",
        "\n",
        "# ax = plt.subplot(1, 1, 1)\n",
        "# plot_exact_pdf(p.log_prob, ax)"
      ],
      "execution_count": 51,
      "outputs": [
        {
          "output_type": "display_data",
          "data": {
            "image/png": "[encoded data removed]",
            "text/plain": [
              "<Figure size 432x288 with 1 Axes>"
            ]
          },
          "metadata": {
            "needs_background": "light"
          }
        }
      ]
    },
    {
      "cell_type": "code",
      "metadata": {
        "colab": {
          "base_uri": "https://localhost:8080/",
          "height": 298
        },
        "id": "eY0CjOAaV-z9",
        "outputId": "e2ac9f7a-18c1-4866-8f28-9ffb0dbe4166"
      },
      "source": [
        "flow = planar\n",
        "n_flows = 4\n",
        "nfs = [flow(dim) for _ in range(n_flows)]\n",
        "nf_obj = NormalizingFlow(dim=dim, nfs=nfs)\n",
        "\n",
        "prior_samples = nf_obj.sample(1000).numpy()\n",
        "sns.kdeplot(x=prior_samples[:,0], y=prior_samples[:,1],n_levels=10, shade=False)\n",
        "plt.title(\"Prior predictive\")"
      ],
      "execution_count": 52,
      "outputs": [
        {
          "output_type": "execute_result",
          "data": {
            "text/plain": [
              "Text(0.5, 1.0, 'Prior predictive')"
            ]
          },
          "metadata": {},
          "execution_count": 52
        },
        {
          "output_type": "display_data",
          "data": {
            "image/png": "[encoded data removed]",
            "text/plain": [
              "<Figure size 432x288 with 1 Axes>"
            ]
          },
          "metadata": {
            "needs_background": "light"
          }
        }
      ]
    },
    {
      "cell_type": "code",
      "metadata": {
        "colab": {
          "base_uri": "https://localhost:8080/",
          "height": 311,
          "referenced_widgets": [
            "e18d91d8fcc944b69cfc6f8cab83de3d",
            "7cedcc5909824d8496407c181d3ac566",
            "22a3afd9965f4b33ae8b3d7a21bd3700",
            "188aaa1f62ea44c68a8da296a6dea5d3",
            "5bb0b39959f147909770a2180f15bda3",
            "939cba560baa45d08b59163740b6bff8",
            "49fd41664a394b8ab38a459a0a7b8c84",
            "87deb046f4ca4a5c9083666ad71f0bea",
            "b4003b1b5cc74e1099523c2dbd40337b",
            "75d51d7568d041f2b0124da04ddb255e",
            "4803314ff1eb45aa98c333199deca192"
          ]
        },
        "id": "6gTaTJgul6SA",
        "outputId": "20e2d567-0887-43d1-e702-6c4e6bcd0281"
      },
      "source": [
        "epochs = 5000\n",
        "optim = Adam({\"lr\": 5e-3})\n",
        "loss = Trace_ELBO(num_particles=1)\n",
        "svi = SVI(nf_obj.model, nf_obj.guide, optim, loss=loss)\n",
        "pyro.clear_param_store()\n",
        "\n",
        "gradient_norms = defaultdict(list)\n",
        "register_gradient_hooks(svi, gradient_norms, [nf_obj.sample(n=128), p])\n",
        "\n",
        "losses = np.zeros(epochs)\n",
        "for i in tqdm.notebook.tqdm(range(epochs)):\n",
        "    data = nf_obj.sample(n=128)\n",
        "    losses[i] = svi.step(data, p)\n",
        "\n",
        "plt.plot(-losses)\n",
        "plt.ylabel(\"ELBO\")\n",
        "plt.xlabel(\"Iteration\")\n",
        "plt.show()"
      ],
      "execution_count": 53,
      "outputs": [
        {
          "output_type": "display_data",
          "data": {
            "application/vnd.jupyter.widget-view+json": {
              "model_id": "e18d91d8fcc944b69cfc6f8cab83de3d",
              "version_minor": 0,
              "version_major": 2
            },
            "text/plain": [
              "  0%|          | 0/5000 [00:00<?, ?it/s]"
            ]
          },
          "metadata": {}
        },
        {
          "output_type": "display_data",
          "data": {
            "image/png": "[encoded data removed]",
            "text/plain": [
              "<Figure size 432x288 with 1 Axes>"
            ]
          },
          "metadata": {
            "needs_background": "light"
          }
        }
      ]
    },
    {
      "cell_type": "code",
      "metadata": {
        "id": "D4GEx_ybnyxj",
        "colab": {
          "base_uri": "https://localhost:8080/",
          "height": 269
        },
        "outputId": "c7d59cb9-e251-4c3c-cede-f42ca47411fa"
      },
      "source": [
        "samples = nf_obj.sample(500).numpy()\n",
        "\n",
        "plt.scatter(x=samples[:,0], y=samples[:,1], s=5, c=\"k\", label=\"Posterior (flow) samples\")\n",
        "plot_pdf(p)\n",
        "plt.legend()\n",
        "tikzplotlib.save(\"U1.tex\")"
      ],
      "execution_count": 54,
      "outputs": [
        {
          "output_type": "display_data",
          "data": {
            "image/png": "[encoded data removed]",
            "text/plain": [
              "<Figure size 432x288 with 1 Axes>"
            ]
          },
          "metadata": {
            "needs_background": "light"
          }
        }
      ]
    },
    {
      "cell_type": "code",
      "metadata": {
        "id": "BbGDEKZTn2mn",
        "colab": {
          "base_uri": "https://localhost:8080/",
          "height": 1000
        },
        "outputId": "88070391-a677-41ec-be31-49f4c9ee75b4"
      },
      "source": [
        "for f in range(n_flows+1):\n",
        "    intermediate_nf = dist.TransformedDistribution(nf_obj.base_dist, nf_obj.nfs[:f])\n",
        "\n",
        "    samples = intermediate_nf.sample(torch.Size([500])).numpy()\n",
        "\n",
        "    sns.kdeplot(x=samples[:,0],y=samples[:,1],n_levels=10, shade=False)\n",
        "    # plt.scatter(x=samples[:,0], y=samples[:,1], s=5)\n",
        "    plt.xlim([-4,4])\n",
        "    plt.ylim([-4,4])\n",
        "    plt.title(f\"$z_{{{f}}}$\")\n",
        "    plt.show()"
      ],
      "execution_count": 55,
      "outputs": [
        {
          "output_type": "display_data",
          "data": {
            "image/png": "[encoded data removed]",
            "text/plain": [
              "<Figure size 432x288 with 1 Axes>"
            ]
          },
          "metadata": {
            "needs_background": "light"
          }
        },
        {
          "output_type": "display_data",
          "data": {
            "image/png": "[encoded data removed]",
            "text/plain": [
              "<Figure size 432x288 with 1 Axes>"
            ]
          },
          "metadata": {
            "needs_background": "light"
          }
        },
        {
          "output_type": "display_data",
          "data": {
            "image/png": "[encoded data removed]",
            "text/plain": [
              "<Figure size 432x288 with 1 Axes>"
            ]
          },
          "metadata": {
            "needs_background": "light"
          }
        },
        {
          "output_type": "display_data",
          "data": {
            "image/png": "[encoded data removed]",
            "text/plain": [
              "<Figure size 432x288 with 1 Axes>"
            ]
          },
          "metadata": {
            "needs_background": "light"
          }
        },
        {
          "output_type": "display_data",
          "data": {
            "image/png": "[encoded data removed]",
            "text/plain": [
              "<Figure size 432x288 with 1 Axes>"
            ]
          },
          "metadata": {
            "needs_background": "light"
          }
        }
      ]
    },
    {
      "cell_type": "code",
      "metadata": {
        "id": "ycqD1y2viyTp"
      },
      "source": [
        ""
      ],
      "execution_count": 55,
      "outputs": []
    }
  ]
}